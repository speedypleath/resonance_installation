{
 "cells": [
  {
   "cell_type": "code",
   "execution_count": 3,
   "id": "b1426542",
   "metadata": {},
   "outputs": [],
   "source": [
    "from torcheeg.datasets import DEAPDataset\n",
    "from torcheeg import transforms\n",
    "from torcheeg.datasets.constants import DEAP_CHANNEL_LOCATION_DICT"
   ]
  },
  {
   "cell_type": "code",
   "execution_count": 4,
   "id": "33ba3996",
   "metadata": {},
   "outputs": [
    {
     "name": "stderr",
     "output_type": "stream",
     "text": [
      "[2025-08-15 22:23:51] INFO (torcheeg/MainThread) 🔍 | Detected cached processing results, reading cache from ./temp/deap.\n"
     ]
    }
   ],
   "source": [
    "\n",
    "dataset = DEAPDataset(\n",
    "    io_path='./temp/deap',\n",
    "    root_path='/Users/andrei/Downloads/deap-dataset/data_preprocessed_python',\n",
    "    offline_transform=transforms.Compose([\n",
    "        transforms.BandDifferentialEntropy(apply_to_baseline=True),\n",
    "        transforms.ToGrid(DEAP_CHANNEL_LOCATION_DICT, apply_to_baseline=True)\n",
    "    ]),\n",
    "    online_transform=transforms.Compose(\n",
    "        [transforms.BaselineRemoval(),\n",
    "         transforms.ToTensor()]),\n",
    "    label_transform=transforms.Compose([\n",
    "        transforms.Select('valence'),\n",
    "        transforms.Binary(5.0),\n",
    "    ]),\n",
    "    num_worker=8)"
   ]
  },
  {
   "cell_type": "code",
   "execution_count": 5,
   "id": "5fec302c",
   "metadata": {},
   "outputs": [],
   "source": [
    "from torcheeg.model_selection import KFoldGroupbyTrial\n",
    "\n",
    "k_fold = KFoldGroupbyTrial(n_splits=5,\n",
    "                           split_path='./temp/deap-split',\n",
    "                           shuffle=True,\n",
    "                           random_state=42)"
   ]
  },
  {
   "cell_type": "code",
   "execution_count": 6,
   "id": "bfc07609",
   "metadata": {},
   "outputs": [],
   "source": [
    "from torcheeg.models import CCNN\n",
    "\n",
    "\n",
    "class Extractor(CCNN):\n",
    "    def forward(self, x):\n",
    "        x = self.conv1(x)\n",
    "        x = self.conv2(x)\n",
    "        x = self.conv3(x)\n",
    "        x = self.conv4(x)\n",
    "        x = x.flatten(start_dim=1)\n",
    "        return x"
   ]
  },
  {
   "cell_type": "code",
   "execution_count": 8,
   "id": "dbc02f0f",
   "metadata": {},
   "outputs": [
    {
     "name": "stderr",
     "output_type": "stream",
     "text": [
      "[2025-08-15 22:51:09] INFO (torcheeg/MainThread) 📊 | Detected existing split of train and test set, use existing split from ./temp/deap-split.\n",
      "[2025-08-15 22:51:09] INFO (torcheeg/MainThread) 💡 | If the dataset is re-generated, you need to re-generate the split of the dataset instead of using the previous split.\n",
      "GPU available: True (mps), used: True\n",
      "TPU available: False, using: 0 TPU cores\n",
      "HPU available: False, using: 0 HPUs\n",
      "\n",
      "  | Name          | Type             | Params | Mode \n",
      "-----------------------------------------------------------\n",
      "0 | model         | CCNN             | 6.2 M  | train\n",
      "1 | ce_fn         | CrossEntropyLoss | 0      | train\n",
      "2 | train_loss    | MeanMetric       | 0      | train\n",
      "3 | val_loss      | MeanMetric       | 0      | train\n",
      "4 | test_loss     | MeanMetric       | 0      | train\n",
      "5 | train_metrics | MetricCollection | 0      | train\n",
      "6 | val_metrics   | MetricCollection | 0      | train\n",
      "7 | test_metrics  | MetricCollection | 0      | train\n",
      "-----------------------------------------------------------\n",
      "6.2 M     Trainable params\n",
      "0         Non-trainable params\n",
      "6.2 M     Total params\n",
      "24.934    Total estimated model params size (MB)\n",
      "32        Modules in train mode\n",
      "0         Modules in eval mode\n",
      "/Users/andrei/miniforge3/envs/tf/lib/python3.11/site-packages/pytorch_lightning/trainer/connectors/data_connector.py:433: The 'train_dataloader' does not have many workers which may be a bottleneck. Consider increasing the value of the `num_workers` argument` to `num_workers=7` in the `DataLoader` to improve performance.\n"
     ]
    },
    {
     "name": "stdout",
     "output_type": "stream",
     "text": [
      "Epoch 0:   0%|          | 1/960 [00:00<01:03, 15.01it/s]"
     ]
    },
    {
     "name": "stderr",
     "output_type": "stream",
     "text": [
      "/Users/andrei/miniforge3/envs/tf/lib/python3.11/site-packages/torch/nn/functional.py:1535: UserWarning: dropout2d: Received a 2-D input to dropout2d, which is deprecated and will result in an error in a future release. To retain the behavior and silence this warning, please use dropout instead. Note that dropout2d exists to provide channel-wise dropout on inputs with 2 spatial dimensions, a channel dimension, and an optional batch dimension (i.e. 3D or 4D inputs).\n",
      "  warnings.warn(warn_msg)\n"
     ]
    },
    {
     "name": "stdout",
     "output_type": "stream",
     "text": [
      "Epoch 0: 100%|██████████| 960/960 [00:40<00:00, 23.89it/s, v_num=2, train_loss=0.318, train_accuracy=0.891]"
     ]
    },
    {
     "name": "stderr",
     "output_type": "stream",
     "text": [
      "[2025-08-15 22:51:50] INFO (torcheeg/MainThread) \n",
      "[Train] train_loss: 0.481 train_accuracy: 0.790 \n"
     ]
    },
    {
     "name": "stdout",
     "output_type": "stream",
     "text": [
      "Epoch 1: 100%|██████████| 960/960 [00:40<00:00, 23.96it/s, v_num=2, train_loss=0.188, train_accuracy=0.906]"
     ]
    },
    {
     "name": "stderr",
     "output_type": "stream",
     "text": [
      "[2025-08-15 22:52:31] INFO (torcheeg/MainThread) \n",
      "[Train] train_loss: 0.304 train_accuracy: 0.873 \n"
     ]
    },
    {
     "name": "stdout",
     "output_type": "stream",
     "text": [
      "Epoch 2: 100%|██████████| 960/960 [00:39<00:00, 24.09it/s, v_num=2, train_loss=0.115, train_accuracy=0.969] "
     ]
    },
    {
     "name": "stderr",
     "output_type": "stream",
     "text": [
      "[2025-08-15 22:53:11] INFO (torcheeg/MainThread) \n",
      "[Train] train_loss: 0.187 train_accuracy: 0.927 \n"
     ]
    },
    {
     "name": "stdout",
     "output_type": "stream",
     "text": [
      "Epoch 3: 100%|██████████| 960/960 [00:40<00:00, 23.98it/s, v_num=2, train_loss=0.184, train_accuracy=0.906] "
     ]
    },
    {
     "name": "stderr",
     "output_type": "stream",
     "text": [
      "[2025-08-15 22:53:52] INFO (torcheeg/MainThread) \n",
      "[Train] train_loss: 0.120 train_accuracy: 0.953 \n"
     ]
    },
    {
     "name": "stdout",
     "output_type": "stream",
     "text": [
      "Epoch 4: 100%|██████████| 960/960 [00:39<00:00, 24.04it/s, v_num=2, train_loss=0.0716, train_accuracy=0.969] "
     ]
    },
    {
     "name": "stderr",
     "output_type": "stream",
     "text": [
      "[2025-08-15 22:54:33] INFO (torcheeg/MainThread) \n",
      "[Train] train_loss: 0.079 train_accuracy: 0.971 \n"
     ]
    },
    {
     "name": "stdout",
     "output_type": "stream",
     "text": [
      "Epoch 5: 100%|██████████| 960/960 [00:40<00:00, 23.98it/s, v_num=2, train_loss=0.0748, train_accuracy=0.984] "
     ]
    },
    {
     "name": "stderr",
     "output_type": "stream",
     "text": [
      "[2025-08-15 22:55:14] INFO (torcheeg/MainThread) \n",
      "[Train] train_loss: 0.055 train_accuracy: 0.980 \n"
     ]
    },
    {
     "name": "stdout",
     "output_type": "stream",
     "text": [
      "Epoch 6: 100%|██████████| 960/960 [00:40<00:00, 23.89it/s, v_num=2, train_loss=0.0294, train_accuracy=1.000] "
     ]
    },
    {
     "name": "stderr",
     "output_type": "stream",
     "text": [
      "[2025-08-15 22:55:56] INFO (torcheeg/MainThread) \n",
      "[Train] train_loss: 0.040 train_accuracy: 0.986 \n"
     ]
    },
    {
     "name": "stdout",
     "output_type": "stream",
     "text": [
      "Epoch 7: 100%|██████████| 960/960 [00:39<00:00, 24.09it/s, v_num=2, train_loss=0.0406, train_accuracy=0.984] "
     ]
    },
    {
     "name": "stderr",
     "output_type": "stream",
     "text": [
      "[2025-08-15 22:56:37] INFO (torcheeg/MainThread) \n",
      "[Train] train_loss: 0.035 train_accuracy: 0.988 \n"
     ]
    },
    {
     "name": "stdout",
     "output_type": "stream",
     "text": [
      "Epoch 8: 100%|██████████| 960/960 [00:40<00:00, 23.74it/s, v_num=2, train_loss=0.0163, train_accuracy=1.000]  "
     ]
    },
    {
     "name": "stderr",
     "output_type": "stream",
     "text": [
      "[2025-08-15 22:57:18] INFO (torcheeg/MainThread) \n",
      "[Train] train_loss: 0.028 train_accuracy: 0.990 \n"
     ]
    },
    {
     "name": "stdout",
     "output_type": "stream",
     "text": [
      "Epoch 9: 100%|██████████| 960/960 [00:49<00:00, 19.38it/s, v_num=2, train_loss=0.010, train_accuracy=1.000]   "
     ]
    },
    {
     "name": "stderr",
     "output_type": "stream",
     "text": [
      "[2025-08-15 22:58:08] INFO (torcheeg/MainThread) \n",
      "[Train] train_loss: 0.024 train_accuracy: 0.992 \n"
     ]
    },
    {
     "name": "stdout",
     "output_type": "stream",
     "text": [
      "Epoch 10: 100%|██████████| 960/960 [01:04<00:00, 14.99it/s, v_num=2, train_loss=0.0113, train_accuracy=1.000]  "
     ]
    },
    {
     "name": "stderr",
     "output_type": "stream",
     "text": [
      "[2025-08-15 22:59:14] INFO (torcheeg/MainThread) \n",
      "[Train] train_loss: 0.021 train_accuracy: 0.993 \n"
     ]
    },
    {
     "name": "stdout",
     "output_type": "stream",
     "text": [
      "Epoch 11: 100%|██████████| 960/960 [00:49<00:00, 19.38it/s, v_num=2, train_loss=0.0137, train_accuracy=1.000]  "
     ]
    },
    {
     "name": "stderr",
     "output_type": "stream",
     "text": [
      "[2025-08-15 23:00:05] INFO (torcheeg/MainThread) \n",
      "[Train] train_loss: 0.018 train_accuracy: 0.993 \n"
     ]
    },
    {
     "name": "stdout",
     "output_type": "stream",
     "text": [
      "Epoch 12: 100%|██████████| 960/960 [00:42<00:00, 22.83it/s, v_num=2, train_loss=0.00578, train_accuracy=1.000] "
     ]
    },
    {
     "name": "stderr",
     "output_type": "stream",
     "text": [
      "[2025-08-15 23:00:48] INFO (torcheeg/MainThread) \n",
      "[Train] train_loss: 0.019 train_accuracy: 0.994 \n"
     ]
    },
    {
     "name": "stdout",
     "output_type": "stream",
     "text": [
      "Epoch 13: 100%|██████████| 960/960 [00:39<00:00, 24.10it/s, v_num=2, train_loss=0.00493, train_accuracy=1.000] "
     ]
    },
    {
     "name": "stderr",
     "output_type": "stream",
     "text": [
      "[2025-08-15 23:01:29] INFO (torcheeg/MainThread) \n",
      "[Train] train_loss: 0.015 train_accuracy: 0.995 \n"
     ]
    },
    {
     "name": "stdout",
     "output_type": "stream",
     "text": [
      "Epoch 14: 100%|██████████| 960/960 [00:39<00:00, 24.02it/s, v_num=2, train_loss=0.0104, train_accuracy=1.000]  "
     ]
    },
    {
     "name": "stderr",
     "output_type": "stream",
     "text": [
      "[2025-08-15 23:02:10] INFO (torcheeg/MainThread) \n",
      "[Train] train_loss: 0.014 train_accuracy: 0.996 \n"
     ]
    },
    {
     "name": "stdout",
     "output_type": "stream",
     "text": [
      "Epoch 15: 100%|██████████| 960/960 [00:41<00:00, 23.34it/s, v_num=2, train_loss=0.0033, train_accuracy=1.000]  "
     ]
    },
    {
     "name": "stderr",
     "output_type": "stream",
     "text": [
      "[2025-08-15 23:02:52] INFO (torcheeg/MainThread) \n",
      "[Train] train_loss: 0.016 train_accuracy: 0.995 \n"
     ]
    },
    {
     "name": "stdout",
     "output_type": "stream",
     "text": [
      "Epoch 16: 100%|██████████| 960/960 [00:42<00:00, 22.75it/s, v_num=2, train_loss=0.000811, train_accuracy=1.000]"
     ]
    },
    {
     "name": "stderr",
     "output_type": "stream",
     "text": [
      "[2025-08-15 23:03:35] INFO (torcheeg/MainThread) \n",
      "[Train] train_loss: 0.014 train_accuracy: 0.996 \n"
     ]
    },
    {
     "name": "stdout",
     "output_type": "stream",
     "text": [
      "Epoch 17: 100%|██████████| 960/960 [00:41<00:00, 22.89it/s, v_num=2, train_loss=0.00462, train_accuracy=1.000] "
     ]
    },
    {
     "name": "stderr",
     "output_type": "stream",
     "text": [
      "[2025-08-15 23:04:18] INFO (torcheeg/MainThread) \n",
      "[Train] train_loss: 0.013 train_accuracy: 0.996 \n"
     ]
    },
    {
     "name": "stdout",
     "output_type": "stream",
     "text": [
      "Epoch 18: 100%|██████████| 960/960 [00:40<00:00, 23.86it/s, v_num=2, train_loss=0.00409, train_accuracy=1.000] "
     ]
    },
    {
     "name": "stderr",
     "output_type": "stream",
     "text": [
      "[2025-08-15 23:04:59] INFO (torcheeg/MainThread) \n",
      "[Train] train_loss: 0.011 train_accuracy: 0.996 \n"
     ]
    },
    {
     "name": "stdout",
     "output_type": "stream",
     "text": [
      "Epoch 19: 100%|██████████| 960/960 [00:40<00:00, 23.93it/s, v_num=2, train_loss=0.0294, train_accuracy=0.984]  "
     ]
    },
    {
     "name": "stderr",
     "output_type": "stream",
     "text": [
      "[2025-08-15 23:05:40] INFO (torcheeg/MainThread) \n",
      "[Train] train_loss: 0.012 train_accuracy: 0.996 \n",
      "`Trainer.fit` stopped: `max_epochs=20` reached.\n"
     ]
    },
    {
     "name": "stdout",
     "output_type": "stream",
     "text": [
      "Epoch 19: 100%|██████████| 960/960 [00:41<00:00, 23.36it/s, v_num=2, train_loss=0.0294, train_accuracy=0.984]"
     ]
    },
    {
     "name": "stderr",
     "output_type": "stream",
     "text": [
      "/Users/andrei/miniforge3/envs/tf/lib/python3.11/site-packages/torcheeg/trainers/generative/wgan_gp.py:98: UserWarning: No latent_channels specified, use generator.in_channels (128) as latent_channels.\n",
      "  warnings.warn(\n",
      "/Users/andrei/miniforge3/envs/tf/lib/python3.11/site-packages/torchmetrics/utilities/prints.py:43: UserWarning: Metric `InceptionScore` will save all extracted features in buffer. For large datasets this may lead to large memory footprint.\n",
      "  warnings.warn(*args, **kwargs)\n",
      "💡 Tip: For seamless cloud uploads and versioning, try installing [litmodels](https://pypi.org/project/litmodels/) to enable LitModelCheckpoint, which syncs automatically with the Lightning model registry.\n"
     ]
    },
    {
     "name": "stdout",
     "output_type": "stream",
     "text": [
      "\n"
     ]
    },
    {
     "name": "stderr",
     "output_type": "stream",
     "text": [
      "GPU available: True (mps), used: True\n",
      "TPU available: False, using: 0 TPU cores\n",
      "HPU available: False, using: 0 HPUs\n",
      "\n",
      "   | Name              | Type              | Params | Mode \n",
      "-----------------------------------------------------------------\n",
      "0  | generator         | BCGenerator       | 3.3 M  | train\n",
      "1  | discriminator     | BCDiscriminator   | 525 K  | train\n",
      "2  | bce_fn            | BCEWithLogitsLoss | 0      | train\n",
      "3  | metric_extractor  | Extractor         | 6.2 M  | train\n",
      "4  | metric_classifier | CCNN              | 6.2 M  | train\n",
      "5  | train_g_loss      | MeanMetric        | 0      | train\n",
      "6  | train_d_loss      | MeanMetric        | 0      | train\n",
      "7  | val_g_loss        | MeanMetric        | 0      | train\n",
      "8  | val_d_loss        | MeanMetric        | 0      | train\n",
      "9  | test_g_loss       | MeanMetric        | 0      | train\n",
      "10 | test_d_loss       | MeanMetric        | 0      | train\n",
      "11 | test_is           | InceptionScore    | 6.2 M  | train\n",
      "-----------------------------------------------------------------\n",
      "16.2 M    Trainable params\n",
      "0         Non-trainable params\n",
      "16.2 M    Total params\n",
      "64.994    Total estimated model params size (MB)\n",
      "89        Modules in train mode\n",
      "0         Modules in eval mode\n"
     ]
    },
    {
     "name": "stdout",
     "output_type": "stream",
     "text": [
      "Sanity Checking DataLoader 0:   0%|          | 0/2 [00:00<?, ?it/s]"
     ]
    },
    {
     "name": "stderr",
     "output_type": "stream",
     "text": [
      "/Users/andrei/miniforge3/envs/tf/lib/python3.11/site-packages/pytorch_lightning/trainer/connectors/data_connector.py:433: The 'val_dataloader' does not have many workers which may be a bottleneck. Consider increasing the value of the `num_workers` argument` to `num_workers=7` in the `DataLoader` to improve performance.\n"
     ]
    },
    {
     "name": "stdout",
     "output_type": "stream",
     "text": [
      "Sanity Checking DataLoader 0: 100%|██████████| 2/2 [00:01<00:00,  1.03it/s]"
     ]
    },
    {
     "name": "stderr",
     "output_type": "stream",
     "text": [
      "[2025-08-15 23:05:43] INFO (torcheeg/MainThread) \n",
      "[VAL] val_g_loss: -0.024 val_d_loss: 0.982 \n",
      "\n"
     ]
    },
    {
     "name": "stdout",
     "output_type": "stream",
     "text": [
      "Epoch 0: 100%|██████████| 960/960 [01:04<00:00, 14.91it/s, v_num=4, train_g_loss=161.0, train_d_loss=-314.]"
     ]
    },
    {
     "name": "stderr",
     "output_type": "stream",
     "text": [
      "[2025-08-15 23:06:53] INFO (torcheeg/MainThread) \n",
      "[VAL] val_g_loss: 157.449 val_d_loss: 4.024 \n",
      "\n"
     ]
    },
    {
     "name": "stdout",
     "output_type": "stream",
     "text": [
      "Epoch 0: 100%|██████████| 960/960 [01:10<00:00, 13.71it/s, v_num=4, train_g_loss=161.0, train_d_loss=-314.]"
     ]
    },
    {
     "name": "stderr",
     "output_type": "stream",
     "text": [
      "[2025-08-15 23:06:53] INFO (torcheeg/MainThread) \n",
      "[Train] train_g_loss: 78.268 train_d_loss: -155.817 \n",
      "\n",
      "`Trainer.fit` stopped: `max_epochs=1` reached.\n"
     ]
    },
    {
     "name": "stdout",
     "output_type": "stream",
     "text": [
      "Epoch 0: 100%|██████████| 960/960 [01:10<00:00, 13.66it/s, v_num=4, train_g_loss=161.0, train_d_loss=-314.]"
     ]
    },
    {
     "name": "stderr",
     "output_type": "stream",
     "text": [
      "💡 Tip: For seamless cloud uploads and versioning, try installing [litmodels](https://pypi.org/project/litmodels/) to enable LitModelCheckpoint, which syncs automatically with the Lightning model registry.\n",
      "GPU available: True (mps), used: True\n",
      "TPU available: False, using: 0 TPU cores\n",
      "HPU available: False, using: 0 HPUs\n",
      "/Users/andrei/miniforge3/envs/tf/lib/python3.11/site-packages/pytorch_lightning/trainer/connectors/data_connector.py:433: The 'test_dataloader' does not have many workers which may be a bottleneck. Consider increasing the value of the `num_workers` argument` to `num_workers=7` in the `DataLoader` to improve performance.\n"
     ]
    },
    {
     "name": "stdout",
     "output_type": "stream",
     "text": [
      "\n",
      "Testing DataLoader 0: 100%|██████████| 240/240 [00:06<00:00, 34.60it/s]"
     ]
    },
    {
     "name": "stderr",
     "output_type": "stream",
     "text": [
      "[2025-08-15 23:07:01] INFO (torcheeg/MainThread) \n",
      "[TEST] test_g_loss: 157.452 test_d_loss: 4.015 test_is: 1.664 \n",
      "\n"
     ]
    },
    {
     "name": "stdout",
     "output_type": "stream",
     "text": [
      "Testing DataLoader 0: 100%|██████████| 240/240 [00:07<00:00, 32.69it/s]\n"
     ]
    },
    {
     "data": {
      "text/html": [
       "<pre style=\"white-space:pre;overflow-x:auto;line-height:normal;font-family:Menlo,'DejaVu Sans Mono',consolas,'Courier New',monospace\">┏━━━━━━━━━━━━━━━━━━━━━━━━━━━┳━━━━━━━━━━━━━━━━━━━━━━━━━━━┓\n",
       "┃<span style=\"font-weight: bold\">        Test metric        </span>┃<span style=\"font-weight: bold\">       DataLoader 0        </span>┃\n",
       "┡━━━━━━━━━━━━━━━━━━━━━━━━━━━╇━━━━━━━━━━━━━━━━━━━━━━━━━━━┩\n",
       "│<span style=\"color: #008080; text-decoration-color: #008080\">        test_d_loss        </span>│<span style=\"color: #800080; text-decoration-color: #800080\">     4.014695167541504     </span>│\n",
       "│<span style=\"color: #008080; text-decoration-color: #008080\">        test_g_loss        </span>│<span style=\"color: #800080; text-decoration-color: #800080\">    157.45150756835938     </span>│\n",
       "│<span style=\"color: #008080; text-decoration-color: #008080\">          test_is          </span>│<span style=\"color: #800080; text-decoration-color: #800080\">     1.664231300354004     </span>│\n",
       "└───────────────────────────┴───────────────────────────┘\n",
       "</pre>\n"
      ],
      "text/plain": [
       "┏━━━━━━━━━━━━━━━━━━━━━━━━━━━┳━━━━━━━━━━━━━━━━━━━━━━━━━━━┓\n",
       "┃\u001b[1m \u001b[0m\u001b[1m       Test metric       \u001b[0m\u001b[1m \u001b[0m┃\u001b[1m \u001b[0m\u001b[1m      DataLoader 0       \u001b[0m\u001b[1m \u001b[0m┃\n",
       "┡━━━━━━━━━━━━━━━━━━━━━━━━━━━╇━━━━━━━━━━━━━━━━━━━━━━━━━━━┩\n",
       "│\u001b[36m \u001b[0m\u001b[36m       test_d_loss       \u001b[0m\u001b[36m \u001b[0m│\u001b[35m \u001b[0m\u001b[35m    4.014695167541504    \u001b[0m\u001b[35m \u001b[0m│\n",
       "│\u001b[36m \u001b[0m\u001b[36m       test_g_loss       \u001b[0m\u001b[36m \u001b[0m│\u001b[35m \u001b[0m\u001b[35m   157.45150756835938    \u001b[0m\u001b[35m \u001b[0m│\n",
       "│\u001b[36m \u001b[0m\u001b[36m         test_is         \u001b[0m\u001b[36m \u001b[0m│\u001b[35m \u001b[0m\u001b[35m    1.664231300354004    \u001b[0m\u001b[35m \u001b[0m│\n",
       "└───────────────────────────┴───────────────────────────┘\n"
      ]
     },
     "metadata": {},
     "output_type": "display_data"
    },
    {
     "name": "stderr",
     "output_type": "stream",
     "text": [
      "GPU available: True (mps), used: True\n",
      "TPU available: False, using: 0 TPU cores\n",
      "HPU available: False, using: 0 HPUs\n",
      "\n",
      "  | Name          | Type             | Params | Mode \n",
      "-----------------------------------------------------------\n",
      "0 | model         | CCNN             | 6.2 M  | train\n",
      "1 | ce_fn         | CrossEntropyLoss | 0      | train\n",
      "2 | train_loss    | MeanMetric       | 0      | train\n",
      "3 | val_loss      | MeanMetric       | 0      | train\n",
      "4 | test_loss     | MeanMetric       | 0      | train\n",
      "5 | train_metrics | MetricCollection | 0      | train\n",
      "6 | val_metrics   | MetricCollection | 0      | train\n",
      "7 | test_metrics  | MetricCollection | 0      | train\n",
      "-----------------------------------------------------------\n",
      "6.2 M     Trainable params\n",
      "0         Non-trainable params\n",
      "6.2 M     Total params\n",
      "24.934    Total estimated model params size (MB)\n",
      "32        Modules in train mode\n",
      "0         Modules in eval mode\n",
      "/Users/andrei/miniforge3/envs/tf/lib/python3.11/site-packages/pytorch_lightning/trainer/connectors/data_connector.py:433: The 'train_dataloader' does not have many workers which may be a bottleneck. Consider increasing the value of the `num_workers` argument` to `num_workers=7` in the `DataLoader` to improve performance.\n"
     ]
    },
    {
     "name": "stdout",
     "output_type": "stream",
     "text": [
      "Epoch 0:   0%|          | 4/960 [00:00<00:42, 22.65it/s, v_num=0, train_loss=0.470, train_accuracy=0.859]"
     ]
    },
    {
     "name": "stderr",
     "output_type": "stream",
     "text": [
      "/Users/andrei/miniforge3/envs/tf/lib/python3.11/site-packages/torch/nn/functional.py:1535: UserWarning: dropout2d: Received a 2-D input to dropout2d, which is deprecated and will result in an error in a future release. To retain the behavior and silence this warning, please use dropout instead. Note that dropout2d exists to provide channel-wise dropout on inputs with 2 spatial dimensions, a channel dimension, and an optional batch dimension (i.e. 3D or 4D inputs).\n",
      "  warnings.warn(warn_msg)\n"
     ]
    },
    {
     "name": "stdout",
     "output_type": "stream",
     "text": [
      "Epoch 0: 100%|██████████| 960/960 [00:40<00:00, 23.85it/s, v_num=0, train_loss=0.524, train_accuracy=0.719]"
     ]
    },
    {
     "name": "stderr",
     "output_type": "stream",
     "text": [
      "[2025-08-15 23:07:41] INFO (torcheeg/MainThread) \n",
      "[Train] train_loss: 0.483 train_accuracy: 0.790 \n"
     ]
    },
    {
     "name": "stdout",
     "output_type": "stream",
     "text": [
      "Epoch 1: 100%|██████████| 960/960 [00:41<00:00, 23.18it/s, v_num=0, train_loss=0.160, train_accuracy=0.922]"
     ]
    },
    {
     "name": "stderr",
     "output_type": "stream",
     "text": [
      "[2025-08-15 23:08:24] INFO (torcheeg/MainThread) \n",
      "[Train] train_loss: 0.317 train_accuracy: 0.866 \n"
     ]
    },
    {
     "name": "stdout",
     "output_type": "stream",
     "text": [
      "Epoch 2: 100%|██████████| 960/960 [00:40<00:00, 23.65it/s, v_num=0, train_loss=0.139, train_accuracy=0.938] "
     ]
    },
    {
     "name": "stderr",
     "output_type": "stream",
     "text": [
      "[2025-08-15 23:09:05] INFO (torcheeg/MainThread) \n",
      "[Train] train_loss: 0.199 train_accuracy: 0.920 \n"
     ]
    },
    {
     "name": "stdout",
     "output_type": "stream",
     "text": [
      "Epoch 3: 100%|██████████| 960/960 [00:45<00:00, 21.14it/s, v_num=0, train_loss=0.0937, train_accuracy=0.969]"
     ]
    },
    {
     "name": "stderr",
     "output_type": "stream",
     "text": [
      "[2025-08-15 23:09:52] INFO (torcheeg/MainThread) \n",
      "[Train] train_loss: 0.129 train_accuracy: 0.951 \n"
     ]
    },
    {
     "name": "stdout",
     "output_type": "stream",
     "text": [
      "Epoch 4: 100%|██████████| 960/960 [00:55<00:00, 17.43it/s, v_num=0, train_loss=0.0735, train_accuracy=0.969] "
     ]
    },
    {
     "name": "stderr",
     "output_type": "stream",
     "text": [
      "[2025-08-15 23:10:48] INFO (torcheeg/MainThread) \n",
      "[Train] train_loss: 0.085 train_accuracy: 0.968 \n"
     ]
    },
    {
     "name": "stdout",
     "output_type": "stream",
     "text": [
      "Epoch 5: 100%|██████████| 960/960 [00:48<00:00, 19.95it/s, v_num=0, train_loss=0.0768, train_accuracy=0.984] "
     ]
    },
    {
     "name": "stderr",
     "output_type": "stream",
     "text": [
      "[2025-08-15 23:11:38] INFO (torcheeg/MainThread) \n",
      "[Train] train_loss: 0.063 train_accuracy: 0.977 \n"
     ]
    },
    {
     "name": "stdout",
     "output_type": "stream",
     "text": [
      "Epoch 6: 100%|██████████| 960/960 [00:39<00:00, 24.01it/s, v_num=0, train_loss=0.0256, train_accuracy=1.000] "
     ]
    },
    {
     "name": "stderr",
     "output_type": "stream",
     "text": [
      "[2025-08-15 23:12:19] INFO (torcheeg/MainThread) \n",
      "[Train] train_loss: 0.045 train_accuracy: 0.984 \n"
     ]
    },
    {
     "name": "stdout",
     "output_type": "stream",
     "text": [
      "Epoch 7: 100%|██████████| 960/960 [00:40<00:00, 23.82it/s, v_num=0, train_loss=0.0192, train_accuracy=1.000] "
     ]
    },
    {
     "name": "stderr",
     "output_type": "stream",
     "text": [
      "[2025-08-15 23:13:01] INFO (torcheeg/MainThread) \n",
      "[Train] train_loss: 0.035 train_accuracy: 0.988 \n"
     ]
    },
    {
     "name": "stdout",
     "output_type": "stream",
     "text": [
      "Epoch 8: 100%|██████████| 960/960 [00:40<00:00, 23.87it/s, v_num=0, train_loss=0.00579, train_accuracy=1.000] "
     ]
    },
    {
     "name": "stderr",
     "output_type": "stream",
     "text": [
      "[2025-08-15 23:13:42] INFO (torcheeg/MainThread) \n",
      "[Train] train_loss: 0.030 train_accuracy: 0.989 \n"
     ]
    },
    {
     "name": "stdout",
     "output_type": "stream",
     "text": [
      "Epoch 9: 100%|██████████| 960/960 [00:40<00:00, 23.76it/s, v_num=0, train_loss=0.00319, train_accuracy=1.000] "
     ]
    },
    {
     "name": "stderr",
     "output_type": "stream",
     "text": [
      "[2025-08-15 23:14:24] INFO (torcheeg/MainThread) \n",
      "[Train] train_loss: 0.025 train_accuracy: 0.992 \n"
     ]
    },
    {
     "name": "stdout",
     "output_type": "stream",
     "text": [
      "Epoch 10: 100%|██████████| 960/960 [00:40<00:00, 23.94it/s, v_num=0, train_loss=0.0882, train_accuracy=0.938]  "
     ]
    },
    {
     "name": "stderr",
     "output_type": "stream",
     "text": [
      "[2025-08-15 23:15:05] INFO (torcheeg/MainThread) \n",
      "[Train] train_loss: 0.023 train_accuracy: 0.992 \n"
     ]
    },
    {
     "name": "stdout",
     "output_type": "stream",
     "text": [
      "Epoch 11: 100%|██████████| 960/960 [00:40<00:00, 23.63it/s, v_num=0, train_loss=0.00103, train_accuracy=1.000] "
     ]
    },
    {
     "name": "stderr",
     "output_type": "stream",
     "text": [
      "[2025-08-15 23:15:47] INFO (torcheeg/MainThread) \n",
      "[Train] train_loss: 0.022 train_accuracy: 0.992 \n"
     ]
    },
    {
     "name": "stdout",
     "output_type": "stream",
     "text": [
      "Epoch 12: 100%|██████████| 960/960 [00:40<00:00, 23.71it/s, v_num=0, train_loss=0.0225, train_accuracy=0.984]  "
     ]
    },
    {
     "name": "stderr",
     "output_type": "stream",
     "text": [
      "[2025-08-15 23:16:28] INFO (torcheeg/MainThread) \n",
      "[Train] train_loss: 0.018 train_accuracy: 0.994 \n"
     ]
    },
    {
     "name": "stdout",
     "output_type": "stream",
     "text": [
      "Epoch 13: 100%|██████████| 960/960 [00:40<00:00, 23.92it/s, v_num=0, train_loss=0.00667, train_accuracy=1.000] "
     ]
    },
    {
     "name": "stderr",
     "output_type": "stream",
     "text": [
      "[2025-08-15 23:17:10] INFO (torcheeg/MainThread) \n",
      "[Train] train_loss: 0.017 train_accuracy: 0.995 \n"
     ]
    },
    {
     "name": "stdout",
     "output_type": "stream",
     "text": [
      "Epoch 14: 100%|██████████| 960/960 [00:40<00:00, 23.72it/s, v_num=0, train_loss=0.00982, train_accuracy=1.000] "
     ]
    },
    {
     "name": "stderr",
     "output_type": "stream",
     "text": [
      "[2025-08-15 23:17:53] INFO (torcheeg/MainThread) \n",
      "[Train] train_loss: 0.017 train_accuracy: 0.994 \n"
     ]
    },
    {
     "name": "stdout",
     "output_type": "stream",
     "text": [
      "Epoch 15: 100%|██████████| 960/960 [00:40<00:00, 23.79it/s, v_num=0, train_loss=0.0296, train_accuracy=0.984]  "
     ]
    },
    {
     "name": "stderr",
     "output_type": "stream",
     "text": [
      "[2025-08-15 23:18:34] INFO (torcheeg/MainThread) \n",
      "[Train] train_loss: 0.016 train_accuracy: 0.995 \n"
     ]
    },
    {
     "name": "stdout",
     "output_type": "stream",
     "text": [
      "Epoch 16: 100%|██████████| 960/960 [00:39<00:00, 24.05it/s, v_num=0, train_loss=0.00395, train_accuracy=1.000] "
     ]
    },
    {
     "name": "stderr",
     "output_type": "stream",
     "text": [
      "[2025-08-15 23:19:15] INFO (torcheeg/MainThread) \n",
      "[Train] train_loss: 0.013 train_accuracy: 0.996 \n"
     ]
    },
    {
     "name": "stdout",
     "output_type": "stream",
     "text": [
      "Epoch 17: 100%|██████████| 960/960 [00:40<00:00, 23.91it/s, v_num=0, train_loss=0.0221, train_accuracy=0.984]  "
     ]
    },
    {
     "name": "stderr",
     "output_type": "stream",
     "text": [
      "[2025-08-15 23:19:56] INFO (torcheeg/MainThread) \n",
      "[Train] train_loss: 0.013 train_accuracy: 0.996 \n"
     ]
    },
    {
     "name": "stdout",
     "output_type": "stream",
     "text": [
      "Epoch 18: 100%|██████████| 960/960 [00:40<00:00, 24.00it/s, v_num=0, train_loss=0.00473, train_accuracy=1.000] "
     ]
    },
    {
     "name": "stderr",
     "output_type": "stream",
     "text": [
      "[2025-08-15 23:20:38] INFO (torcheeg/MainThread) \n",
      "[Train] train_loss: 0.013 train_accuracy: 0.996 \n"
     ]
    },
    {
     "name": "stdout",
     "output_type": "stream",
     "text": [
      "Epoch 19: 100%|██████████| 960/960 [00:40<00:00, 23.79it/s, v_num=0, train_loss=0.0842, train_accuracy=0.969]  "
     ]
    },
    {
     "name": "stderr",
     "output_type": "stream",
     "text": [
      "[2025-08-15 23:21:19] INFO (torcheeg/MainThread) \n",
      "[Train] train_loss: 0.013 train_accuracy: 0.995 \n",
      "`Trainer.fit` stopped: `max_epochs=20` reached.\n"
     ]
    },
    {
     "name": "stdout",
     "output_type": "stream",
     "text": [
      "Epoch 19: 100%|██████████| 960/960 [00:41<00:00, 23.25it/s, v_num=0, train_loss=0.0842, train_accuracy=0.969]"
     ]
    },
    {
     "name": "stderr",
     "output_type": "stream",
     "text": [
      "/Users/andrei/miniforge3/envs/tf/lib/python3.11/site-packages/torcheeg/trainers/generative/wgan_gp.py:98: UserWarning: No latent_channels specified, use generator.in_channels (128) as latent_channels.\n",
      "  warnings.warn(\n",
      "/Users/andrei/miniforge3/envs/tf/lib/python3.11/site-packages/torchmetrics/utilities/prints.py:43: UserWarning: Metric `InceptionScore` will save all extracted features in buffer. For large datasets this may lead to large memory footprint.\n",
      "  warnings.warn(*args, **kwargs)\n",
      "💡 Tip: For seamless cloud uploads and versioning, try installing [litmodels](https://pypi.org/project/litmodels/) to enable LitModelCheckpoint, which syncs automatically with the Lightning model registry.\n"
     ]
    },
    {
     "name": "stdout",
     "output_type": "stream",
     "text": [
      "\n"
     ]
    },
    {
     "name": "stderr",
     "output_type": "stream",
     "text": [
      "GPU available: True (mps), used: True\n",
      "TPU available: False, using: 0 TPU cores\n",
      "HPU available: False, using: 0 HPUs\n",
      "\n",
      "   | Name              | Type              | Params | Mode \n",
      "-----------------------------------------------------------------\n",
      "0  | generator         | BCGenerator       | 3.3 M  | train\n",
      "1  | discriminator     | BCDiscriminator   | 525 K  | train\n",
      "2  | bce_fn            | BCEWithLogitsLoss | 0      | train\n",
      "3  | metric_extractor  | Extractor         | 6.2 M  | train\n",
      "4  | metric_classifier | CCNN              | 6.2 M  | train\n",
      "5  | train_g_loss      | MeanMetric        | 0      | train\n",
      "6  | train_d_loss      | MeanMetric        | 0      | train\n",
      "7  | val_g_loss        | MeanMetric        | 0      | train\n",
      "8  | val_d_loss        | MeanMetric        | 0      | train\n",
      "9  | test_g_loss       | MeanMetric        | 0      | train\n",
      "10 | test_d_loss       | MeanMetric        | 0      | train\n",
      "11 | test_is           | InceptionScore    | 6.2 M  | train\n",
      "-----------------------------------------------------------------\n",
      "16.2 M    Trainable params\n",
      "0         Non-trainable params\n",
      "16.2 M    Total params\n",
      "64.994    Total estimated model params size (MB)\n",
      "89        Modules in train mode\n",
      "0         Modules in eval mode\n"
     ]
    },
    {
     "name": "stdout",
     "output_type": "stream",
     "text": [
      "Sanity Checking DataLoader 0:  50%|█████     | 1/2 [00:00<00:00, 23.11it/s]"
     ]
    },
    {
     "name": "stderr",
     "output_type": "stream",
     "text": [
      "/Users/andrei/miniforge3/envs/tf/lib/python3.11/site-packages/pytorch_lightning/trainer/connectors/data_connector.py:433: The 'val_dataloader' does not have many workers which may be a bottleneck. Consider increasing the value of the `num_workers` argument` to `num_workers=7` in the `DataLoader` to improve performance.\n"
     ]
    },
    {
     "name": "stdout",
     "output_type": "stream",
     "text": [
      "Sanity Checking DataLoader 0: 100%|██████████| 2/2 [00:00<00:00, 30.58it/s]"
     ]
    },
    {
     "name": "stderr",
     "output_type": "stream",
     "text": [
      "[2025-08-15 23:21:21] INFO (torcheeg/MainThread) \n",
      "[VAL] val_g_loss: 0.029 val_d_loss: 0.980 \n",
      "\n"
     ]
    },
    {
     "name": "stdout",
     "output_type": "stream",
     "text": [
      "Epoch 0: 100%|██████████| 960/960 [01:01<00:00, 15.66it/s, v_num=6, train_g_loss=161.0, train_d_loss=-313.]  "
     ]
    },
    {
     "name": "stderr",
     "output_type": "stream",
     "text": [
      "[2025-08-15 23:22:27] INFO (torcheeg/MainThread) \n",
      "[VAL] val_g_loss: 151.881 val_d_loss: 14.505 \n",
      "\n"
     ]
    },
    {
     "name": "stdout",
     "output_type": "stream",
     "text": [
      "Epoch 0: 100%|██████████| 960/960 [01:06<00:00, 14.39it/s, v_num=6, train_g_loss=161.0, train_d_loss=-313.]"
     ]
    },
    {
     "name": "stderr",
     "output_type": "stream",
     "text": [
      "[2025-08-15 23:22:27] INFO (torcheeg/MainThread) \n",
      "[Train] train_g_loss: 78.894 train_d_loss: -155.645 \n",
      "\n",
      "`Trainer.fit` stopped: `max_epochs=1` reached.\n"
     ]
    },
    {
     "name": "stdout",
     "output_type": "stream",
     "text": [
      "Epoch 0: 100%|██████████| 960/960 [01:07<00:00, 14.30it/s, v_num=6, train_g_loss=161.0, train_d_loss=-313.]"
     ]
    },
    {
     "name": "stderr",
     "output_type": "stream",
     "text": [
      "💡 Tip: For seamless cloud uploads and versioning, try installing [litmodels](https://pypi.org/project/litmodels/) to enable LitModelCheckpoint, which syncs automatically with the Lightning model registry.\n",
      "GPU available: True (mps), used: True\n",
      "TPU available: False, using: 0 TPU cores\n",
      "HPU available: False, using: 0 HPUs\n",
      "/Users/andrei/miniforge3/envs/tf/lib/python3.11/site-packages/pytorch_lightning/trainer/connectors/data_connector.py:433: The 'test_dataloader' does not have many workers which may be a bottleneck. Consider increasing the value of the `num_workers` argument` to `num_workers=7` in the `DataLoader` to improve performance.\n"
     ]
    },
    {
     "name": "stdout",
     "output_type": "stream",
     "text": [
      "\n",
      "Testing DataLoader 0: 100%|██████████| 240/240 [00:06<00:00, 35.07it/s]"
     ]
    },
    {
     "name": "stderr",
     "output_type": "stream",
     "text": [
      "[2025-08-15 23:22:35] INFO (torcheeg/MainThread) \n",
      "[TEST] test_g_loss: 151.922 test_d_loss: 14.473 test_is: 1.304 \n",
      "\n"
     ]
    },
    {
     "name": "stdout",
     "output_type": "stream",
     "text": [
      "Testing DataLoader 0: 100%|██████████| 240/240 [00:06<00:00, 34.92it/s]\n"
     ]
    },
    {
     "data": {
      "text/html": [
       "<pre style=\"white-space:pre;overflow-x:auto;line-height:normal;font-family:Menlo,'DejaVu Sans Mono',consolas,'Courier New',monospace\">┏━━━━━━━━━━━━━━━━━━━━━━━━━━━┳━━━━━━━━━━━━━━━━━━━━━━━━━━━┓\n",
       "┃<span style=\"font-weight: bold\">        Test metric        </span>┃<span style=\"font-weight: bold\">       DataLoader 0        </span>┃\n",
       "┡━━━━━━━━━━━━━━━━━━━━━━━━━━━╇━━━━━━━━━━━━━━━━━━━━━━━━━━━┩\n",
       "│<span style=\"color: #008080; text-decoration-color: #008080\">        test_d_loss        </span>│<span style=\"color: #800080; text-decoration-color: #800080\">    14.473097801208496     </span>│\n",
       "│<span style=\"color: #008080; text-decoration-color: #008080\">        test_g_loss        </span>│<span style=\"color: #800080; text-decoration-color: #800080\">    151.92230224609375     </span>│\n",
       "│<span style=\"color: #008080; text-decoration-color: #008080\">          test_is          </span>│<span style=\"color: #800080; text-decoration-color: #800080\">    1.3039205074310303     </span>│\n",
       "└───────────────────────────┴───────────────────────────┘\n",
       "</pre>\n"
      ],
      "text/plain": [
       "┏━━━━━━━━━━━━━━━━━━━━━━━━━━━┳━━━━━━━━━━━━━━━━━━━━━━━━━━━┓\n",
       "┃\u001b[1m \u001b[0m\u001b[1m       Test metric       \u001b[0m\u001b[1m \u001b[0m┃\u001b[1m \u001b[0m\u001b[1m      DataLoader 0       \u001b[0m\u001b[1m \u001b[0m┃\n",
       "┡━━━━━━━━━━━━━━━━━━━━━━━━━━━╇━━━━━━━━━━━━━━━━━━━━━━━━━━━┩\n",
       "│\u001b[36m \u001b[0m\u001b[36m       test_d_loss       \u001b[0m\u001b[36m \u001b[0m│\u001b[35m \u001b[0m\u001b[35m   14.473097801208496    \u001b[0m\u001b[35m \u001b[0m│\n",
       "│\u001b[36m \u001b[0m\u001b[36m       test_g_loss       \u001b[0m\u001b[36m \u001b[0m│\u001b[35m \u001b[0m\u001b[35m   151.92230224609375    \u001b[0m\u001b[35m \u001b[0m│\n",
       "│\u001b[36m \u001b[0m\u001b[36m         test_is         \u001b[0m\u001b[36m \u001b[0m│\u001b[35m \u001b[0m\u001b[35m   1.3039205074310303    \u001b[0m\u001b[35m \u001b[0m│\n",
       "└───────────────────────────┴───────────────────────────┘\n"
      ]
     },
     "metadata": {},
     "output_type": "display_data"
    },
    {
     "name": "stderr",
     "output_type": "stream",
     "text": [
      "GPU available: True (mps), used: True\n",
      "TPU available: False, using: 0 TPU cores\n",
      "HPU available: False, using: 0 HPUs\n",
      "\n",
      "  | Name          | Type             | Params | Mode \n",
      "-----------------------------------------------------------\n",
      "0 | model         | CCNN             | 6.2 M  | train\n",
      "1 | ce_fn         | CrossEntropyLoss | 0      | train\n",
      "2 | train_loss    | MeanMetric       | 0      | train\n",
      "3 | val_loss      | MeanMetric       | 0      | train\n",
      "4 | test_loss     | MeanMetric       | 0      | train\n",
      "5 | train_metrics | MetricCollection | 0      | train\n",
      "6 | val_metrics   | MetricCollection | 0      | train\n",
      "7 | test_metrics  | MetricCollection | 0      | train\n",
      "-----------------------------------------------------------\n",
      "6.2 M     Trainable params\n",
      "0         Non-trainable params\n",
      "6.2 M     Total params\n",
      "24.934    Total estimated model params size (MB)\n",
      "32        Modules in train mode\n",
      "0         Modules in eval mode\n",
      "/Users/andrei/miniforge3/envs/tf/lib/python3.11/site-packages/pytorch_lightning/trainer/connectors/data_connector.py:433: The 'train_dataloader' does not have many workers which may be a bottleneck. Consider increasing the value of the `num_workers` argument` to `num_workers=7` in the `DataLoader` to improve performance.\n"
     ]
    },
    {
     "name": "stdout",
     "output_type": "stream",
     "text": [
      "Epoch 0:   0%|          | 4/960 [00:00<00:41, 23.22it/s, v_num=0, train_loss=0.644, train_accuracy=0.672]"
     ]
    },
    {
     "name": "stderr",
     "output_type": "stream",
     "text": [
      "/Users/andrei/miniforge3/envs/tf/lib/python3.11/site-packages/torch/nn/functional.py:1535: UserWarning: dropout2d: Received a 2-D input to dropout2d, which is deprecated and will result in an error in a future release. To retain the behavior and silence this warning, please use dropout instead. Note that dropout2d exists to provide channel-wise dropout on inputs with 2 spatial dimensions, a channel dimension, and an optional batch dimension (i.e. 3D or 4D inputs).\n",
      "  warnings.warn(warn_msg)\n"
     ]
    },
    {
     "name": "stdout",
     "output_type": "stream",
     "text": [
      "Epoch 0: 100%|██████████| 960/960 [00:40<00:00, 23.74it/s, v_num=0, train_loss=0.333, train_accuracy=0.859]"
     ]
    },
    {
     "name": "stderr",
     "output_type": "stream",
     "text": [
      "[2025-08-15 23:23:15] INFO (torcheeg/MainThread) \n",
      "[Train] train_loss: 0.482 train_accuracy: 0.790 \n"
     ]
    },
    {
     "name": "stdout",
     "output_type": "stream",
     "text": [
      "Epoch 1: 100%|██████████| 960/960 [00:40<00:00, 23.87it/s, v_num=0, train_loss=0.230, train_accuracy=0.922]"
     ]
    },
    {
     "name": "stderr",
     "output_type": "stream",
     "text": [
      "[2025-08-15 23:23:56] INFO (torcheeg/MainThread) \n",
      "[Train] train_loss: 0.311 train_accuracy: 0.871 \n"
     ]
    },
    {
     "name": "stdout",
     "output_type": "stream",
     "text": [
      "Epoch 2: 100%|██████████| 960/960 [00:40<00:00, 23.89it/s, v_num=0, train_loss=0.150, train_accuracy=0.953] "
     ]
    },
    {
     "name": "stderr",
     "output_type": "stream",
     "text": [
      "[2025-08-15 23:24:38] INFO (torcheeg/MainThread) \n",
      "[Train] train_loss: 0.195 train_accuracy: 0.923 \n"
     ]
    },
    {
     "name": "stdout",
     "output_type": "stream",
     "text": [
      "Epoch 3: 100%|██████████| 960/960 [00:40<00:00, 24.00it/s, v_num=0, train_loss=0.0576, train_accuracy=1.000]"
     ]
    },
    {
     "name": "stderr",
     "output_type": "stream",
     "text": [
      "[2025-08-15 23:25:19] INFO (torcheeg/MainThread) \n",
      "[Train] train_loss: 0.125 train_accuracy: 0.952 \n"
     ]
    },
    {
     "name": "stdout",
     "output_type": "stream",
     "text": [
      "Epoch 4: 100%|██████████| 960/960 [00:40<00:00, 23.77it/s, v_num=0, train_loss=0.0597, train_accuracy=0.984]"
     ]
    },
    {
     "name": "stderr",
     "output_type": "stream",
     "text": [
      "[2025-08-15 23:26:01] INFO (torcheeg/MainThread) \n",
      "[Train] train_loss: 0.083 train_accuracy: 0.969 \n"
     ]
    },
    {
     "name": "stdout",
     "output_type": "stream",
     "text": [
      "Epoch 5: 100%|██████████| 960/960 [00:40<00:00, 23.94it/s, v_num=0, train_loss=0.035, train_accuracy=0.984]  "
     ]
    },
    {
     "name": "stderr",
     "output_type": "stream",
     "text": [
      "[2025-08-15 23:26:42] INFO (torcheeg/MainThread) \n",
      "[Train] train_loss: 0.058 train_accuracy: 0.978 \n"
     ]
    },
    {
     "name": "stdout",
     "output_type": "stream",
     "text": [
      "Epoch 6: 100%|██████████| 960/960 [00:40<00:00, 23.75it/s, v_num=0, train_loss=0.0489, train_accuracy=0.969] "
     ]
    },
    {
     "name": "stderr",
     "output_type": "stream",
     "text": [
      "[2025-08-15 23:27:24] INFO (torcheeg/MainThread) \n",
      "[Train] train_loss: 0.044 train_accuracy: 0.984 \n"
     ]
    },
    {
     "name": "stdout",
     "output_type": "stream",
     "text": [
      "Epoch 7: 100%|██████████| 960/960 [00:40<00:00, 23.95it/s, v_num=0, train_loss=0.0287, train_accuracy=1.000] "
     ]
    },
    {
     "name": "stderr",
     "output_type": "stream",
     "text": [
      "[2025-08-15 23:28:05] INFO (torcheeg/MainThread) \n",
      "[Train] train_loss: 0.033 train_accuracy: 0.988 \n"
     ]
    },
    {
     "name": "stdout",
     "output_type": "stream",
     "text": [
      "Epoch 8: 100%|██████████| 960/960 [00:39<00:00, 24.02it/s, v_num=0, train_loss=0.00241, train_accuracy=1.000] "
     ]
    },
    {
     "name": "stderr",
     "output_type": "stream",
     "text": [
      "[2025-08-15 23:28:46] INFO (torcheeg/MainThread) \n",
      "[Train] train_loss: 0.029 train_accuracy: 0.990 \n"
     ]
    },
    {
     "name": "stdout",
     "output_type": "stream",
     "text": [
      "Epoch 9: 100%|██████████| 960/960 [00:40<00:00, 23.73it/s, v_num=0, train_loss=0.0867, train_accuracy=0.984]  "
     ]
    },
    {
     "name": "stderr",
     "output_type": "stream",
     "text": [
      "[2025-08-15 23:29:28] INFO (torcheeg/MainThread) \n",
      "[Train] train_loss: 0.027 train_accuracy: 0.991 \n"
     ]
    },
    {
     "name": "stdout",
     "output_type": "stream",
     "text": [
      "Epoch 10: 100%|██████████| 960/960 [00:40<00:00, 23.96it/s, v_num=0, train_loss=0.0428, train_accuracy=0.969]  "
     ]
    },
    {
     "name": "stderr",
     "output_type": "stream",
     "text": [
      "[2025-08-15 23:30:09] INFO (torcheeg/MainThread) \n",
      "[Train] train_loss: 0.022 train_accuracy: 0.993 \n"
     ]
    },
    {
     "name": "stdout",
     "output_type": "stream",
     "text": [
      "Epoch 11: 100%|██████████| 960/960 [00:40<00:00, 23.89it/s, v_num=0, train_loss=0.0162, train_accuracy=0.984]  "
     ]
    },
    {
     "name": "stderr",
     "output_type": "stream",
     "text": [
      "[2025-08-15 23:30:50] INFO (torcheeg/MainThread) \n",
      "[Train] train_loss: 0.020 train_accuracy: 0.994 \n"
     ]
    },
    {
     "name": "stdout",
     "output_type": "stream",
     "text": [
      "Epoch 12: 100%|██████████| 960/960 [00:39<00:00, 24.17it/s, v_num=0, train_loss=0.00345, train_accuracy=1.000] "
     ]
    },
    {
     "name": "stderr",
     "output_type": "stream",
     "text": [
      "[2025-08-15 23:31:31] INFO (torcheeg/MainThread) \n",
      "[Train] train_loss: 0.018 train_accuracy: 0.994 \n"
     ]
    },
    {
     "name": "stdout",
     "output_type": "stream",
     "text": [
      "Epoch 13: 100%|██████████| 960/960 [00:40<00:00, 23.55it/s, v_num=0, train_loss=0.00234, train_accuracy=1.000] "
     ]
    },
    {
     "name": "stderr",
     "output_type": "stream",
     "text": [
      "[2025-08-15 23:32:13] INFO (torcheeg/MainThread) \n",
      "[Train] train_loss: 0.018 train_accuracy: 0.994 \n"
     ]
    },
    {
     "name": "stdout",
     "output_type": "stream",
     "text": [
      "Epoch 14: 100%|██████████| 960/960 [00:40<00:00, 23.90it/s, v_num=0, train_loss=0.0113, train_accuracy=1.000]  "
     ]
    },
    {
     "name": "stderr",
     "output_type": "stream",
     "text": [
      "[2025-08-15 23:32:55] INFO (torcheeg/MainThread) \n",
      "[Train] train_loss: 0.018 train_accuracy: 0.994 \n"
     ]
    },
    {
     "name": "stdout",
     "output_type": "stream",
     "text": [
      "Epoch 15: 100%|██████████| 960/960 [00:40<00:00, 23.91it/s, v_num=0, train_loss=0.000977, train_accuracy=1.000]"
     ]
    },
    {
     "name": "stderr",
     "output_type": "stream",
     "text": [
      "[2025-08-15 23:33:36] INFO (torcheeg/MainThread) \n",
      "[Train] train_loss: 0.016 train_accuracy: 0.995 \n"
     ]
    },
    {
     "name": "stdout",
     "output_type": "stream",
     "text": [
      "Epoch 16: 100%|██████████| 960/960 [00:40<00:00, 23.84it/s, v_num=0, train_loss=0.00943, train_accuracy=1.000] "
     ]
    },
    {
     "name": "stderr",
     "output_type": "stream",
     "text": [
      "[2025-08-15 23:34:17] INFO (torcheeg/MainThread) \n",
      "[Train] train_loss: 0.013 train_accuracy: 0.996 \n"
     ]
    },
    {
     "name": "stdout",
     "output_type": "stream",
     "text": [
      "Epoch 17: 100%|██████████| 960/960 [00:40<00:00, 23.81it/s, v_num=0, train_loss=0.00125, train_accuracy=1.000] "
     ]
    },
    {
     "name": "stderr",
     "output_type": "stream",
     "text": [
      "[2025-08-15 23:34:59] INFO (torcheeg/MainThread) \n",
      "[Train] train_loss: 0.013 train_accuracy: 0.996 \n"
     ]
    },
    {
     "name": "stdout",
     "output_type": "stream",
     "text": [
      "Epoch 18: 100%|██████████| 960/960 [00:40<00:00, 23.80it/s, v_num=0, train_loss=0.0131, train_accuracy=1.000]  "
     ]
    },
    {
     "name": "stderr",
     "output_type": "stream",
     "text": [
      "[2025-08-15 23:35:41] INFO (torcheeg/MainThread) \n",
      "[Train] train_loss: 0.013 train_accuracy: 0.996 \n"
     ]
    },
    {
     "name": "stdout",
     "output_type": "stream",
     "text": [
      "Epoch 19: 100%|██████████| 960/960 [00:39<00:00, 24.13it/s, v_num=0, train_loss=0.00447, train_accuracy=1.000] "
     ]
    },
    {
     "name": "stderr",
     "output_type": "stream",
     "text": [
      "[2025-08-15 23:36:22] INFO (torcheeg/MainThread) \n",
      "[Train] train_loss: 0.012 train_accuracy: 0.996 \n",
      "`Trainer.fit` stopped: `max_epochs=20` reached.\n"
     ]
    },
    {
     "name": "stdout",
     "output_type": "stream",
     "text": [
      "Epoch 19: 100%|██████████| 960/960 [00:40<00:00, 23.44it/s, v_num=0, train_loss=0.00447, train_accuracy=1.000]"
     ]
    },
    {
     "name": "stderr",
     "output_type": "stream",
     "text": [
      "/Users/andrei/miniforge3/envs/tf/lib/python3.11/site-packages/torcheeg/trainers/generative/wgan_gp.py:98: UserWarning: No latent_channels specified, use generator.in_channels (128) as latent_channels.\n",
      "  warnings.warn(\n",
      "/Users/andrei/miniforge3/envs/tf/lib/python3.11/site-packages/torchmetrics/utilities/prints.py:43: UserWarning: Metric `InceptionScore` will save all extracted features in buffer. For large datasets this may lead to large memory footprint.\n",
      "  warnings.warn(*args, **kwargs)\n",
      "💡 Tip: For seamless cloud uploads and versioning, try installing [litmodels](https://pypi.org/project/litmodels/) to enable LitModelCheckpoint, which syncs automatically with the Lightning model registry.\n",
      "GPU available: True (mps), used: True\n",
      "TPU available: False, using: 0 TPU cores\n",
      "HPU available: False, using: 0 HPUs\n"
     ]
    },
    {
     "name": "stdout",
     "output_type": "stream",
     "text": [
      "\n"
     ]
    },
    {
     "name": "stderr",
     "output_type": "stream",
     "text": [
      "\n",
      "   | Name              | Type              | Params | Mode \n",
      "-----------------------------------------------------------------\n",
      "0  | generator         | BCGenerator       | 3.3 M  | train\n",
      "1  | discriminator     | BCDiscriminator   | 525 K  | train\n",
      "2  | bce_fn            | BCEWithLogitsLoss | 0      | train\n",
      "3  | metric_extractor  | Extractor         | 6.2 M  | train\n",
      "4  | metric_classifier | CCNN              | 6.2 M  | train\n",
      "5  | train_g_loss      | MeanMetric        | 0      | train\n",
      "6  | train_d_loss      | MeanMetric        | 0      | train\n",
      "7  | val_g_loss        | MeanMetric        | 0      | train\n",
      "8  | val_d_loss        | MeanMetric        | 0      | train\n",
      "9  | test_g_loss       | MeanMetric        | 0      | train\n",
      "10 | test_d_loss       | MeanMetric        | 0      | train\n",
      "11 | test_is           | InceptionScore    | 6.2 M  | train\n",
      "-----------------------------------------------------------------\n",
      "16.2 M    Trainable params\n",
      "0         Non-trainable params\n",
      "16.2 M    Total params\n",
      "64.994    Total estimated model params size (MB)\n",
      "89        Modules in train mode\n",
      "0         Modules in eval mode\n"
     ]
    },
    {
     "name": "stdout",
     "output_type": "stream",
     "text": [
      "Sanity Checking DataLoader 0:  50%|█████     | 1/2 [00:00<00:00, 15.33it/s]"
     ]
    },
    {
     "name": "stderr",
     "output_type": "stream",
     "text": [
      "/Users/andrei/miniforge3/envs/tf/lib/python3.11/site-packages/pytorch_lightning/trainer/connectors/data_connector.py:433: The 'val_dataloader' does not have many workers which may be a bottleneck. Consider increasing the value of the `num_workers` argument` to `num_workers=7` in the `DataLoader` to improve performance.\n"
     ]
    },
    {
     "name": "stdout",
     "output_type": "stream",
     "text": [
      "Sanity Checking DataLoader 0: 100%|██████████| 2/2 [00:00<00:00, 22.60it/s]"
     ]
    },
    {
     "name": "stderr",
     "output_type": "stream",
     "text": [
      "[2025-08-15 23:36:24] INFO (torcheeg/MainThread) \n",
      "[VAL] val_g_loss: 0.017 val_d_loss: 0.978 \n",
      "\n"
     ]
    },
    {
     "name": "stdout",
     "output_type": "stream",
     "text": [
      "Epoch 0: 100%|██████████| 960/960 [01:00<00:00, 15.78it/s, v_num=8, train_g_loss=163.0, train_d_loss=-315.]"
     ]
    },
    {
     "name": "stderr",
     "output_type": "stream",
     "text": [
      "[2025-08-15 23:37:30] INFO (torcheeg/MainThread) \n",
      "[VAL] val_g_loss: 159.705 val_d_loss: 0.950 \n",
      "\n"
     ]
    },
    {
     "name": "stdout",
     "output_type": "stream",
     "text": [
      "Epoch 0: 100%|██████████| 960/960 [01:06<00:00, 14.49it/s, v_num=8, train_g_loss=163.0, train_d_loss=-315.]"
     ]
    },
    {
     "name": "stderr",
     "output_type": "stream",
     "text": [
      "[2025-08-15 23:37:30] INFO (torcheeg/MainThread) \n",
      "[Train] train_g_loss: 79.400 train_d_loss: -156.436 \n",
      "\n",
      "`Trainer.fit` stopped: `max_epochs=1` reached.\n"
     ]
    },
    {
     "name": "stdout",
     "output_type": "stream",
     "text": [
      "Epoch 0: 100%|██████████| 960/960 [01:06<00:00, 14.39it/s, v_num=8, train_g_loss=163.0, train_d_loss=-315.]"
     ]
    },
    {
     "name": "stderr",
     "output_type": "stream",
     "text": [
      "💡 Tip: For seamless cloud uploads and versioning, try installing [litmodels](https://pypi.org/project/litmodels/) to enable LitModelCheckpoint, which syncs automatically with the Lightning model registry.\n",
      "GPU available: True (mps), used: True\n",
      "TPU available: False, using: 0 TPU cores\n",
      "HPU available: False, using: 0 HPUs\n",
      "/Users/andrei/miniforge3/envs/tf/lib/python3.11/site-packages/pytorch_lightning/trainer/connectors/data_connector.py:433: The 'test_dataloader' does not have many workers which may be a bottleneck. Consider increasing the value of the `num_workers` argument` to `num_workers=7` in the `DataLoader` to improve performance.\n"
     ]
    },
    {
     "name": "stdout",
     "output_type": "stream",
     "text": [
      "\n",
      "Testing DataLoader 0: 100%|██████████| 240/240 [00:06<00:00, 34.98it/s]"
     ]
    },
    {
     "name": "stderr",
     "output_type": "stream",
     "text": [
      "[2025-08-15 23:37:37] INFO (torcheeg/MainThread) \n",
      "[TEST] test_g_loss: 159.749 test_d_loss: 0.911 test_is: 1.699 \n",
      "\n"
     ]
    },
    {
     "name": "stdout",
     "output_type": "stream",
     "text": [
      "Testing DataLoader 0: 100%|██████████| 240/240 [00:06<00:00, 34.83it/s]\n"
     ]
    },
    {
     "data": {
      "text/html": [
       "<pre style=\"white-space:pre;overflow-x:auto;line-height:normal;font-family:Menlo,'DejaVu Sans Mono',consolas,'Courier New',monospace\">┏━━━━━━━━━━━━━━━━━━━━━━━━━━━┳━━━━━━━━━━━━━━━━━━━━━━━━━━━┓\n",
       "┃<span style=\"font-weight: bold\">        Test metric        </span>┃<span style=\"font-weight: bold\">       DataLoader 0        </span>┃\n",
       "┡━━━━━━━━━━━━━━━━━━━━━━━━━━━╇━━━━━━━━━━━━━━━━━━━━━━━━━━━┩\n",
       "│<span style=\"color: #008080; text-decoration-color: #008080\">        test_d_loss        </span>│<span style=\"color: #800080; text-decoration-color: #800080\">     0.910961925983429     </span>│\n",
       "│<span style=\"color: #008080; text-decoration-color: #008080\">        test_g_loss        </span>│<span style=\"color: #800080; text-decoration-color: #800080\">     159.7488250732422     </span>│\n",
       "│<span style=\"color: #008080; text-decoration-color: #008080\">          test_is          </span>│<span style=\"color: #800080; text-decoration-color: #800080\">    1.6990562677383423     </span>│\n",
       "└───────────────────────────┴───────────────────────────┘\n",
       "</pre>\n"
      ],
      "text/plain": [
       "┏━━━━━━━━━━━━━━━━━━━━━━━━━━━┳━━━━━━━━━━━━━━━━━━━━━━━━━━━┓\n",
       "┃\u001b[1m \u001b[0m\u001b[1m       Test metric       \u001b[0m\u001b[1m \u001b[0m┃\u001b[1m \u001b[0m\u001b[1m      DataLoader 0       \u001b[0m\u001b[1m \u001b[0m┃\n",
       "┡━━━━━━━━━━━━━━━━━━━━━━━━━━━╇━━━━━━━━━━━━━━━━━━━━━━━━━━━┩\n",
       "│\u001b[36m \u001b[0m\u001b[36m       test_d_loss       \u001b[0m\u001b[36m \u001b[0m│\u001b[35m \u001b[0m\u001b[35m    0.910961925983429    \u001b[0m\u001b[35m \u001b[0m│\n",
       "│\u001b[36m \u001b[0m\u001b[36m       test_g_loss       \u001b[0m\u001b[36m \u001b[0m│\u001b[35m \u001b[0m\u001b[35m    159.7488250732422    \u001b[0m\u001b[35m \u001b[0m│\n",
       "│\u001b[36m \u001b[0m\u001b[36m         test_is         \u001b[0m\u001b[36m \u001b[0m│\u001b[35m \u001b[0m\u001b[35m   1.6990562677383423    \u001b[0m\u001b[35m \u001b[0m│\n",
       "└───────────────────────────┴───────────────────────────┘\n"
      ]
     },
     "metadata": {},
     "output_type": "display_data"
    },
    {
     "name": "stderr",
     "output_type": "stream",
     "text": [
      "GPU available: True (mps), used: True\n",
      "TPU available: False, using: 0 TPU cores\n",
      "HPU available: False, using: 0 HPUs\n",
      "\n",
      "  | Name          | Type             | Params | Mode \n",
      "-----------------------------------------------------------\n",
      "0 | model         | CCNN             | 6.2 M  | train\n",
      "1 | ce_fn         | CrossEntropyLoss | 0      | train\n",
      "2 | train_loss    | MeanMetric       | 0      | train\n",
      "3 | val_loss      | MeanMetric       | 0      | train\n",
      "4 | test_loss     | MeanMetric       | 0      | train\n",
      "5 | train_metrics | MetricCollection | 0      | train\n",
      "6 | val_metrics   | MetricCollection | 0      | train\n",
      "7 | test_metrics  | MetricCollection | 0      | train\n",
      "-----------------------------------------------------------\n",
      "6.2 M     Trainable params\n",
      "0         Non-trainable params\n",
      "6.2 M     Total params\n",
      "24.934    Total estimated model params size (MB)\n",
      "32        Modules in train mode\n",
      "0         Modules in eval mode\n",
      "/Users/andrei/miniforge3/envs/tf/lib/python3.11/site-packages/pytorch_lightning/trainer/connectors/data_connector.py:433: The 'train_dataloader' does not have many workers which may be a bottleneck. Consider increasing the value of the `num_workers` argument` to `num_workers=7` in the `DataLoader` to improve performance.\n"
     ]
    },
    {
     "name": "stdout",
     "output_type": "stream",
     "text": [
      "Epoch 0:   0%|          | 4/960 [00:00<00:40, 23.90it/s, v_num=0, train_loss=0.541, train_accuracy=0.797]"
     ]
    },
    {
     "name": "stderr",
     "output_type": "stream",
     "text": [
      "/Users/andrei/miniforge3/envs/tf/lib/python3.11/site-packages/torch/nn/functional.py:1535: UserWarning: dropout2d: Received a 2-D input to dropout2d, which is deprecated and will result in an error in a future release. To retain the behavior and silence this warning, please use dropout instead. Note that dropout2d exists to provide channel-wise dropout on inputs with 2 spatial dimensions, a channel dimension, and an optional batch dimension (i.e. 3D or 4D inputs).\n",
      "  warnings.warn(warn_msg)\n"
     ]
    },
    {
     "name": "stdout",
     "output_type": "stream",
     "text": [
      "Epoch 0: 100%|██████████| 960/960 [00:40<00:00, 23.81it/s, v_num=0, train_loss=0.582, train_accuracy=0.750]"
     ]
    },
    {
     "name": "stderr",
     "output_type": "stream",
     "text": [
      "[2025-08-15 23:38:18] INFO (torcheeg/MainThread) \n",
      "[Train] train_loss: 0.482 train_accuracy: 0.790 \n"
     ]
    },
    {
     "name": "stdout",
     "output_type": "stream",
     "text": [
      "Epoch 1: 100%|██████████| 960/960 [00:40<00:00, 23.99it/s, v_num=0, train_loss=0.267, train_accuracy=0.906] "
     ]
    },
    {
     "name": "stderr",
     "output_type": "stream",
     "text": [
      "[2025-08-15 23:38:59] INFO (torcheeg/MainThread) \n",
      "[Train] train_loss: 0.296 train_accuracy: 0.877 \n"
     ]
    },
    {
     "name": "stdout",
     "output_type": "stream",
     "text": [
      "Epoch 2: 100%|██████████| 960/960 [00:40<00:00, 23.65it/s, v_num=0, train_loss=0.227, train_accuracy=0.906] "
     ]
    },
    {
     "name": "stderr",
     "output_type": "stream",
     "text": [
      "[2025-08-15 23:39:40] INFO (torcheeg/MainThread) \n",
      "[Train] train_loss: 0.178 train_accuracy: 0.930 \n"
     ]
    },
    {
     "name": "stdout",
     "output_type": "stream",
     "text": [
      "Epoch 3: 100%|██████████| 960/960 [00:40<00:00, 23.93it/s, v_num=0, train_loss=0.0394, train_accuracy=0.984]"
     ]
    },
    {
     "name": "stderr",
     "output_type": "stream",
     "text": [
      "[2025-08-15 23:40:21] INFO (torcheeg/MainThread) \n",
      "[Train] train_loss: 0.108 train_accuracy: 0.959 \n"
     ]
    },
    {
     "name": "stdout",
     "output_type": "stream",
     "text": [
      "Epoch 4: 100%|██████████| 960/960 [00:40<00:00, 23.89it/s, v_num=0, train_loss=0.0279, train_accuracy=0.984] "
     ]
    },
    {
     "name": "stderr",
     "output_type": "stream",
     "text": [
      "[2025-08-15 23:41:03] INFO (torcheeg/MainThread) \n",
      "[Train] train_loss: 0.071 train_accuracy: 0.973 \n"
     ]
    },
    {
     "name": "stdout",
     "output_type": "stream",
     "text": [
      "Epoch 5: 100%|██████████| 960/960 [00:40<00:00, 23.89it/s, v_num=0, train_loss=0.0545, train_accuracy=0.969] "
     ]
    },
    {
     "name": "stderr",
     "output_type": "stream",
     "text": [
      "[2025-08-15 23:41:44] INFO (torcheeg/MainThread) \n",
      "[Train] train_loss: 0.048 train_accuracy: 0.983 \n"
     ]
    },
    {
     "name": "stdout",
     "output_type": "stream",
     "text": [
      "Epoch 6: 100%|██████████| 960/960 [00:39<00:00, 24.00it/s, v_num=0, train_loss=0.0146, train_accuracy=1.000]  "
     ]
    },
    {
     "name": "stderr",
     "output_type": "stream",
     "text": [
      "[2025-08-15 23:42:25] INFO (torcheeg/MainThread) \n",
      "[Train] train_loss: 0.036 train_accuracy: 0.987 \n"
     ]
    },
    {
     "name": "stdout",
     "output_type": "stream",
     "text": [
      "Epoch 7: 100%|██████████| 960/960 [00:40<00:00, 23.82it/s, v_num=0, train_loss=0.0106, train_accuracy=1.000]  "
     ]
    },
    {
     "name": "stderr",
     "output_type": "stream",
     "text": [
      "[2025-08-15 23:43:07] INFO (torcheeg/MainThread) \n",
      "[Train] train_loss: 0.031 train_accuracy: 0.989 \n"
     ]
    },
    {
     "name": "stdout",
     "output_type": "stream",
     "text": [
      "Epoch 8: 100%|██████████| 960/960 [00:40<00:00, 23.92it/s, v_num=0, train_loss=0.0356, train_accuracy=0.984]  "
     ]
    },
    {
     "name": "stderr",
     "output_type": "stream",
     "text": [
      "[2025-08-15 23:43:48] INFO (torcheeg/MainThread) \n",
      "[Train] train_loss: 0.025 train_accuracy: 0.992 \n"
     ]
    },
    {
     "name": "stdout",
     "output_type": "stream",
     "text": [
      "Epoch 9: 100%|██████████| 960/960 [00:40<00:00, 23.77it/s, v_num=0, train_loss=0.00485, train_accuracy=1.000] "
     ]
    },
    {
     "name": "stderr",
     "output_type": "stream",
     "text": [
      "[2025-08-15 23:44:29] INFO (torcheeg/MainThread) \n",
      "[Train] train_loss: 0.022 train_accuracy: 0.993 \n"
     ]
    },
    {
     "name": "stdout",
     "output_type": "stream",
     "text": [
      "Epoch 10: 100%|██████████| 960/960 [00:40<00:00, 23.96it/s, v_num=0, train_loss=0.00789, train_accuracy=1.000] "
     ]
    },
    {
     "name": "stderr",
     "output_type": "stream",
     "text": [
      "[2025-08-15 23:45:10] INFO (torcheeg/MainThread) \n",
      "[Train] train_loss: 0.022 train_accuracy: 0.993 \n"
     ]
    },
    {
     "name": "stdout",
     "output_type": "stream",
     "text": [
      "Epoch 11: 100%|██████████| 960/960 [00:40<00:00, 23.83it/s, v_num=0, train_loss=0.00603, train_accuracy=1.000] "
     ]
    },
    {
     "name": "stderr",
     "output_type": "stream",
     "text": [
      "[2025-08-15 23:45:52] INFO (torcheeg/MainThread) \n",
      "[Train] train_loss: 0.019 train_accuracy: 0.994 \n"
     ]
    },
    {
     "name": "stdout",
     "output_type": "stream",
     "text": [
      "Epoch 12: 100%|██████████| 960/960 [00:40<00:00, 23.86it/s, v_num=0, train_loss=0.0043, train_accuracy=1.000]  "
     ]
    },
    {
     "name": "stderr",
     "output_type": "stream",
     "text": [
      "[2025-08-15 23:46:33] INFO (torcheeg/MainThread) \n",
      "[Train] train_loss: 0.018 train_accuracy: 0.994 \n"
     ]
    },
    {
     "name": "stdout",
     "output_type": "stream",
     "text": [
      "Epoch 13: 100%|██████████| 960/960 [00:40<00:00, 23.74it/s, v_num=0, train_loss=0.00963, train_accuracy=1.000] "
     ]
    },
    {
     "name": "stderr",
     "output_type": "stream",
     "text": [
      "[2025-08-15 23:47:15] INFO (torcheeg/MainThread) \n",
      "[Train] train_loss: 0.016 train_accuracy: 0.995 \n"
     ]
    },
    {
     "name": "stdout",
     "output_type": "stream",
     "text": [
      "Epoch 14: 100%|██████████| 960/960 [00:40<00:00, 23.90it/s, v_num=0, train_loss=0.00436, train_accuracy=1.000] "
     ]
    },
    {
     "name": "stderr",
     "output_type": "stream",
     "text": [
      "[2025-08-15 23:47:56] INFO (torcheeg/MainThread) \n",
      "[Train] train_loss: 0.015 train_accuracy: 0.995 \n"
     ]
    },
    {
     "name": "stdout",
     "output_type": "stream",
     "text": [
      "Epoch 15: 100%|██████████| 960/960 [00:40<00:00, 23.94it/s, v_num=0, train_loss=0.0032, train_accuracy=1.000]  "
     ]
    },
    {
     "name": "stderr",
     "output_type": "stream",
     "text": [
      "[2025-08-15 23:48:37] INFO (torcheeg/MainThread) \n",
      "[Train] train_loss: 0.013 train_accuracy: 0.996 \n"
     ]
    },
    {
     "name": "stdout",
     "output_type": "stream",
     "text": [
      "Epoch 16: 100%|██████████| 960/960 [00:48<00:00, 19.81it/s, v_num=0, train_loss=0.00067, train_accuracy=1.000] "
     ]
    },
    {
     "name": "stderr",
     "output_type": "stream",
     "text": [
      "[2025-08-15 23:49:26] INFO (torcheeg/MainThread) \n",
      "[Train] train_loss: 0.012 train_accuracy: 0.996 \n"
     ]
    },
    {
     "name": "stdout",
     "output_type": "stream",
     "text": [
      "Epoch 17: 100%|██████████| 960/960 [00:39<00:00, 24.02it/s, v_num=0, train_loss=0.0111, train_accuracy=1.000]  "
     ]
    },
    {
     "name": "stderr",
     "output_type": "stream",
     "text": [
      "[2025-08-15 23:50:07] INFO (torcheeg/MainThread) \n",
      "[Train] train_loss: 0.014 train_accuracy: 0.995 \n"
     ]
    },
    {
     "name": "stdout",
     "output_type": "stream",
     "text": [
      "Epoch 18: 100%|██████████| 960/960 [00:40<00:00, 23.92it/s, v_num=0, train_loss=0.0133, train_accuracy=1.000]  "
     ]
    },
    {
     "name": "stderr",
     "output_type": "stream",
     "text": [
      "[2025-08-15 23:50:48] INFO (torcheeg/MainThread) \n",
      "[Train] train_loss: 0.012 train_accuracy: 0.996 \n"
     ]
    },
    {
     "name": "stdout",
     "output_type": "stream",
     "text": [
      "Epoch 19: 100%|██████████| 960/960 [00:40<00:00, 23.96it/s, v_num=0, train_loss=0.0342, train_accuracy=0.984]  "
     ]
    },
    {
     "name": "stderr",
     "output_type": "stream",
     "text": [
      "[2025-08-15 23:51:29] INFO (torcheeg/MainThread) \n",
      "[Train] train_loss: 0.010 train_accuracy: 0.997 \n",
      "`Trainer.fit` stopped: `max_epochs=20` reached.\n"
     ]
    },
    {
     "name": "stdout",
     "output_type": "stream",
     "text": [
      "Epoch 19: 100%|██████████| 960/960 [00:40<00:00, 23.45it/s, v_num=0, train_loss=0.0342, train_accuracy=0.984]"
     ]
    },
    {
     "name": "stderr",
     "output_type": "stream",
     "text": [
      "/Users/andrei/miniforge3/envs/tf/lib/python3.11/site-packages/torcheeg/trainers/generative/wgan_gp.py:98: UserWarning: No latent_channels specified, use generator.in_channels (128) as latent_channels.\n",
      "  warnings.warn(\n",
      "/Users/andrei/miniforge3/envs/tf/lib/python3.11/site-packages/torchmetrics/utilities/prints.py:43: UserWarning: Metric `InceptionScore` will save all extracted features in buffer. For large datasets this may lead to large memory footprint.\n",
      "  warnings.warn(*args, **kwargs)\n",
      "💡 Tip: For seamless cloud uploads and versioning, try installing [litmodels](https://pypi.org/project/litmodels/) to enable LitModelCheckpoint, which syncs automatically with the Lightning model registry.\n",
      "GPU available: True (mps), used: True\n",
      "TPU available: False, using: 0 TPU cores\n",
      "HPU available: False, using: 0 HPUs\n",
      "\n",
      "   | Name              | Type              | Params | Mode \n",
      "-----------------------------------------------------------------\n",
      "0  | generator         | BCGenerator       | 3.3 M  | train\n",
      "1  | discriminator     | BCDiscriminator   | 525 K  | train\n",
      "2  | bce_fn            | BCEWithLogitsLoss | 0      | train\n",
      "3  | metric_extractor  | Extractor         | 6.2 M  | train\n",
      "4  | metric_classifier | CCNN              | 6.2 M  | train\n",
      "5  | train_g_loss      | MeanMetric        | 0      | train\n",
      "6  | train_d_loss      | MeanMetric        | 0      | train\n",
      "7  | val_g_loss        | MeanMetric        | 0      | train\n",
      "8  | val_d_loss        | MeanMetric        | 0      | train\n",
      "9  | test_g_loss       | MeanMetric        | 0      | train\n",
      "10 | test_d_loss       | MeanMetric        | 0      | train\n",
      "11 | test_is           | InceptionScore    | 6.2 M  | train\n",
      "-----------------------------------------------------------------\n",
      "16.2 M    Trainable params\n",
      "0         Non-trainable params\n",
      "16.2 M    Total params\n",
      "64.994    Total estimated model params size (MB)\n",
      "89        Modules in train mode\n",
      "0         Modules in eval mode\n"
     ]
    },
    {
     "name": "stdout",
     "output_type": "stream",
     "text": [
      "\n",
      "Sanity Checking DataLoader 0: 100%|██████████| 2/2 [00:00<00:00, 25.96it/s]"
     ]
    },
    {
     "name": "stderr",
     "output_type": "stream",
     "text": [
      "/Users/andrei/miniforge3/envs/tf/lib/python3.11/site-packages/pytorch_lightning/trainer/connectors/data_connector.py:433: The 'val_dataloader' does not have many workers which may be a bottleneck. Consider increasing the value of the `num_workers` argument` to `num_workers=7` in the `DataLoader` to improve performance.\n",
      "[2025-08-15 23:51:31] INFO (torcheeg/MainThread) \n",
      "[VAL] val_g_loss: 0.008 val_d_loss: 0.980 \n",
      "\n"
     ]
    },
    {
     "name": "stdout",
     "output_type": "stream",
     "text": [
      "Epoch 0: 100%|██████████| 960/960 [01:01<00:00, 15.71it/s, v_num=10, train_g_loss=158.0, train_d_loss=-312.]"
     ]
    },
    {
     "name": "stderr",
     "output_type": "stream",
     "text": [
      "[2025-08-15 23:52:37] INFO (torcheeg/MainThread) \n",
      "[VAL] val_g_loss: 173.506 val_d_loss: -12.112 \n",
      "\n"
     ]
    },
    {
     "name": "stdout",
     "output_type": "stream",
     "text": [
      "Epoch 0: 100%|██████████| 960/960 [01:06<00:00, 14.43it/s, v_num=10, train_g_loss=158.0, train_d_loss=-312.]"
     ]
    },
    {
     "name": "stderr",
     "output_type": "stream",
     "text": [
      "[2025-08-15 23:52:37] INFO (torcheeg/MainThread) \n",
      "[Train] train_g_loss: 78.824 train_d_loss: -154.992 \n",
      "\n",
      "`Trainer.fit` stopped: `max_epochs=1` reached.\n"
     ]
    },
    {
     "name": "stdout",
     "output_type": "stream",
     "text": [
      "Epoch 0: 100%|██████████| 960/960 [01:06<00:00, 14.34it/s, v_num=10, train_g_loss=158.0, train_d_loss=-312.]"
     ]
    },
    {
     "name": "stderr",
     "output_type": "stream",
     "text": [
      "💡 Tip: For seamless cloud uploads and versioning, try installing [litmodels](https://pypi.org/project/litmodels/) to enable LitModelCheckpoint, which syncs automatically with the Lightning model registry.\n",
      "GPU available: True (mps), used: True\n",
      "TPU available: False, using: 0 TPU cores\n",
      "HPU available: False, using: 0 HPUs\n",
      "/Users/andrei/miniforge3/envs/tf/lib/python3.11/site-packages/pytorch_lightning/trainer/connectors/data_connector.py:433: The 'test_dataloader' does not have many workers which may be a bottleneck. Consider increasing the value of the `num_workers` argument` to `num_workers=7` in the `DataLoader` to improve performance.\n"
     ]
    },
    {
     "name": "stdout",
     "output_type": "stream",
     "text": [
      "\n",
      "Testing DataLoader 0: 100%|██████████| 240/240 [00:06<00:00, 34.82it/s]"
     ]
    },
    {
     "name": "stderr",
     "output_type": "stream",
     "text": [
      "[2025-08-15 23:52:45] INFO (torcheeg/MainThread) \n",
      "[TEST] test_g_loss: 173.515 test_d_loss: -12.125 test_is: 1.626 \n",
      "\n"
     ]
    },
    {
     "name": "stdout",
     "output_type": "stream",
     "text": [
      "Testing DataLoader 0: 100%|██████████| 240/240 [00:06<00:00, 34.63it/s]\n"
     ]
    },
    {
     "data": {
      "text/html": [
       "<pre style=\"white-space:pre;overflow-x:auto;line-height:normal;font-family:Menlo,'DejaVu Sans Mono',consolas,'Courier New',monospace\">┏━━━━━━━━━━━━━━━━━━━━━━━━━━━┳━━━━━━━━━━━━━━━━━━━━━━━━━━━┓\n",
       "┃<span style=\"font-weight: bold\">        Test metric        </span>┃<span style=\"font-weight: bold\">       DataLoader 0        </span>┃\n",
       "┡━━━━━━━━━━━━━━━━━━━━━━━━━━━╇━━━━━━━━━━━━━━━━━━━━━━━━━━━┩\n",
       "│<span style=\"color: #008080; text-decoration-color: #008080\">        test_d_loss        </span>│<span style=\"color: #800080; text-decoration-color: #800080\">    -12.124547004699707    </span>│\n",
       "│<span style=\"color: #008080; text-decoration-color: #008080\">        test_g_loss        </span>│<span style=\"color: #800080; text-decoration-color: #800080\">     173.5145721435547     </span>│\n",
       "│<span style=\"color: #008080; text-decoration-color: #008080\">          test_is          </span>│<span style=\"color: #800080; text-decoration-color: #800080\">    1.6257965564727783     </span>│\n",
       "└───────────────────────────┴───────────────────────────┘\n",
       "</pre>\n"
      ],
      "text/plain": [
       "┏━━━━━━━━━━━━━━━━━━━━━━━━━━━┳━━━━━━━━━━━━━━━━━━━━━━━━━━━┓\n",
       "┃\u001b[1m \u001b[0m\u001b[1m       Test metric       \u001b[0m\u001b[1m \u001b[0m┃\u001b[1m \u001b[0m\u001b[1m      DataLoader 0       \u001b[0m\u001b[1m \u001b[0m┃\n",
       "┡━━━━━━━━━━━━━━━━━━━━━━━━━━━╇━━━━━━━━━━━━━━━━━━━━━━━━━━━┩\n",
       "│\u001b[36m \u001b[0m\u001b[36m       test_d_loss       \u001b[0m\u001b[36m \u001b[0m│\u001b[35m \u001b[0m\u001b[35m   -12.124547004699707   \u001b[0m\u001b[35m \u001b[0m│\n",
       "│\u001b[36m \u001b[0m\u001b[36m       test_g_loss       \u001b[0m\u001b[36m \u001b[0m│\u001b[35m \u001b[0m\u001b[35m    173.5145721435547    \u001b[0m\u001b[35m \u001b[0m│\n",
       "│\u001b[36m \u001b[0m\u001b[36m         test_is         \u001b[0m\u001b[36m \u001b[0m│\u001b[35m \u001b[0m\u001b[35m   1.6257965564727783    \u001b[0m\u001b[35m \u001b[0m│\n",
       "└───────────────────────────┴───────────────────────────┘\n"
      ]
     },
     "metadata": {},
     "output_type": "display_data"
    },
    {
     "name": "stderr",
     "output_type": "stream",
     "text": [
      "GPU available: True (mps), used: True\n",
      "TPU available: False, using: 0 TPU cores\n",
      "HPU available: False, using: 0 HPUs\n",
      "\n",
      "  | Name          | Type             | Params | Mode \n",
      "-----------------------------------------------------------\n",
      "0 | model         | CCNN             | 6.2 M  | train\n",
      "1 | ce_fn         | CrossEntropyLoss | 0      | train\n",
      "2 | train_loss    | MeanMetric       | 0      | train\n",
      "3 | val_loss      | MeanMetric       | 0      | train\n",
      "4 | test_loss     | MeanMetric       | 0      | train\n",
      "5 | train_metrics | MetricCollection | 0      | train\n",
      "6 | val_metrics   | MetricCollection | 0      | train\n",
      "7 | test_metrics  | MetricCollection | 0      | train\n",
      "-----------------------------------------------------------\n",
      "6.2 M     Trainable params\n",
      "0         Non-trainable params\n",
      "6.2 M     Total params\n",
      "24.934    Total estimated model params size (MB)\n",
      "32        Modules in train mode\n",
      "0         Modules in eval mode\n",
      "/Users/andrei/miniforge3/envs/tf/lib/python3.11/site-packages/pytorch_lightning/trainer/connectors/data_connector.py:433: The 'train_dataloader' does not have many workers which may be a bottleneck. Consider increasing the value of the `num_workers` argument` to `num_workers=7` in the `DataLoader` to improve performance.\n"
     ]
    },
    {
     "name": "stdout",
     "output_type": "stream",
     "text": [
      "Epoch 0:   0%|          | 4/960 [00:00<00:39, 24.42it/s, v_num=0, train_loss=0.597, train_accuracy=0.703]"
     ]
    },
    {
     "name": "stderr",
     "output_type": "stream",
     "text": [
      "/Users/andrei/miniforge3/envs/tf/lib/python3.11/site-packages/torch/nn/functional.py:1535: UserWarning: dropout2d: Received a 2-D input to dropout2d, which is deprecated and will result in an error in a future release. To retain the behavior and silence this warning, please use dropout instead. Note that dropout2d exists to provide channel-wise dropout on inputs with 2 spatial dimensions, a channel dimension, and an optional batch dimension (i.e. 3D or 4D inputs).\n",
      "  warnings.warn(warn_msg)\n"
     ]
    },
    {
     "name": "stdout",
     "output_type": "stream",
     "text": [
      "Epoch 0: 100%|██████████| 960/960 [00:39<00:00, 24.16it/s, v_num=0, train_loss=0.351, train_accuracy=0.828]"
     ]
    },
    {
     "name": "stderr",
     "output_type": "stream",
     "text": [
      "[2025-08-15 23:53:25] INFO (torcheeg/MainThread) \n",
      "[Train] train_loss: 0.480 train_accuracy: 0.790 \n"
     ]
    },
    {
     "name": "stdout",
     "output_type": "stream",
     "text": [
      "Epoch 1: 100%|██████████| 960/960 [00:40<00:00, 23.93it/s, v_num=0, train_loss=0.227, train_accuracy=0.906]"
     ]
    },
    {
     "name": "stderr",
     "output_type": "stream",
     "text": [
      "[2025-08-15 23:54:05] INFO (torcheeg/MainThread) \n",
      "[Train] train_loss: 0.309 train_accuracy: 0.870 \n"
     ]
    },
    {
     "name": "stdout",
     "output_type": "stream",
     "text": [
      "Epoch 2: 100%|██████████| 960/960 [00:39<00:00, 24.07it/s, v_num=0, train_loss=0.156, train_accuracy=0.953] "
     ]
    },
    {
     "name": "stderr",
     "output_type": "stream",
     "text": [
      "[2025-08-15 23:54:46] INFO (torcheeg/MainThread) \n",
      "[Train] train_loss: 0.189 train_accuracy: 0.925 \n"
     ]
    },
    {
     "name": "stdout",
     "output_type": "stream",
     "text": [
      "Epoch 3: 100%|██████████| 960/960 [00:40<00:00, 23.95it/s, v_num=0, train_loss=0.0357, train_accuracy=1.000]"
     ]
    },
    {
     "name": "stderr",
     "output_type": "stream",
     "text": [
      "[2025-08-15 23:55:27] INFO (torcheeg/MainThread) \n",
      "[Train] train_loss: 0.120 train_accuracy: 0.954 \n"
     ]
    },
    {
     "name": "stdout",
     "output_type": "stream",
     "text": [
      "Epoch 4: 100%|██████████| 960/960 [00:40<00:00, 23.99it/s, v_num=0, train_loss=0.0788, train_accuracy=0.969] "
     ]
    },
    {
     "name": "stderr",
     "output_type": "stream",
     "text": [
      "[2025-08-15 23:56:08] INFO (torcheeg/MainThread) \n",
      "[Train] train_loss: 0.078 train_accuracy: 0.971 \n"
     ]
    },
    {
     "name": "stdout",
     "output_type": "stream",
     "text": [
      "Epoch 5: 100%|██████████| 960/960 [00:39<00:00, 24.13it/s, v_num=0, train_loss=0.0431, train_accuracy=0.969] "
     ]
    },
    {
     "name": "stderr",
     "output_type": "stream",
     "text": [
      "[2025-08-15 23:56:49] INFO (torcheeg/MainThread) \n",
      "[Train] train_loss: 0.054 train_accuracy: 0.981 \n"
     ]
    },
    {
     "name": "stdout",
     "output_type": "stream",
     "text": [
      "Epoch 6: 100%|██████████| 960/960 [00:39<00:00, 24.12it/s, v_num=0, train_loss=0.00264, train_accuracy=1.000]"
     ]
    },
    {
     "name": "stderr",
     "output_type": "stream",
     "text": [
      "[2025-08-15 23:57:30] INFO (torcheeg/MainThread) \n",
      "[Train] train_loss: 0.042 train_accuracy: 0.985 \n"
     ]
    },
    {
     "name": "stdout",
     "output_type": "stream",
     "text": [
      "Epoch 7: 100%|██████████| 960/960 [00:39<00:00, 24.27it/s, v_num=0, train_loss=0.00836, train_accuracy=1.000]"
     ]
    },
    {
     "name": "stderr",
     "output_type": "stream",
     "text": [
      "[2025-08-15 23:58:11] INFO (torcheeg/MainThread) \n",
      "[Train] train_loss: 0.032 train_accuracy: 0.989 \n"
     ]
    },
    {
     "name": "stdout",
     "output_type": "stream",
     "text": [
      "Epoch 8: 100%|██████████| 960/960 [00:39<00:00, 24.22it/s, v_num=0, train_loss=0.00176, train_accuracy=1.000] "
     ]
    },
    {
     "name": "stderr",
     "output_type": "stream",
     "text": [
      "[2025-08-15 23:58:51] INFO (torcheeg/MainThread) \n",
      "[Train] train_loss: 0.028 train_accuracy: 0.990 \n"
     ]
    },
    {
     "name": "stdout",
     "output_type": "stream",
     "text": [
      "Epoch 9: 100%|██████████| 960/960 [00:39<00:00, 24.26it/s, v_num=0, train_loss=0.00651, train_accuracy=1.000] "
     ]
    },
    {
     "name": "stderr",
     "output_type": "stream",
     "text": [
      "[2025-08-15 23:59:32] INFO (torcheeg/MainThread) \n",
      "[Train] train_loss: 0.026 train_accuracy: 0.991 \n"
     ]
    },
    {
     "name": "stdout",
     "output_type": "stream",
     "text": [
      "Epoch 10: 100%|██████████| 960/960 [00:40<00:00, 23.52it/s, v_num=0, train_loss=0.0313, train_accuracy=0.984]  "
     ]
    },
    {
     "name": "stderr",
     "output_type": "stream",
     "text": [
      "[2025-08-16 00:00:14] INFO (torcheeg/MainThread) \n",
      "[Train] train_loss: 0.022 train_accuracy: 0.992 \n"
     ]
    },
    {
     "name": "stdout",
     "output_type": "stream",
     "text": [
      "Epoch 11: 100%|██████████| 960/960 [00:39<00:00, 24.05it/s, v_num=0, train_loss=0.0087, train_accuracy=1.000]  "
     ]
    },
    {
     "name": "stderr",
     "output_type": "stream",
     "text": [
      "[2025-08-16 00:00:55] INFO (torcheeg/MainThread) \n",
      "[Train] train_loss: 0.019 train_accuracy: 0.993 \n"
     ]
    },
    {
     "name": "stdout",
     "output_type": "stream",
     "text": [
      "Epoch 12: 100%|██████████| 960/960 [00:39<00:00, 24.02it/s, v_num=0, train_loss=0.00642, train_accuracy=1.000] "
     ]
    },
    {
     "name": "stderr",
     "output_type": "stream",
     "text": [
      "[2025-08-16 00:01:36] INFO (torcheeg/MainThread) \n",
      "[Train] train_loss: 0.018 train_accuracy: 0.993 \n"
     ]
    },
    {
     "name": "stdout",
     "output_type": "stream",
     "text": [
      "Epoch 13: 100%|██████████| 960/960 [00:40<00:00, 23.84it/s, v_num=0, train_loss=0.000845, train_accuracy=1.000]"
     ]
    },
    {
     "name": "stderr",
     "output_type": "stream",
     "text": [
      "[2025-08-16 00:02:18] INFO (torcheeg/MainThread) \n",
      "[Train] train_loss: 0.015 train_accuracy: 0.995 \n"
     ]
    },
    {
     "name": "stdout",
     "output_type": "stream",
     "text": [
      "Epoch 14: 100%|██████████| 960/960 [00:39<00:00, 24.09it/s, v_num=0, train_loss=0.012, train_accuracy=0.984]   "
     ]
    },
    {
     "name": "stderr",
     "output_type": "stream",
     "text": [
      "[2025-08-16 00:02:59] INFO (torcheeg/MainThread) \n",
      "[Train] train_loss: 0.016 train_accuracy: 0.995 \n"
     ]
    },
    {
     "name": "stdout",
     "output_type": "stream",
     "text": [
      "Epoch 15: 100%|██████████| 960/960 [00:39<00:00, 24.10it/s, v_num=0, train_loss=0.0174, train_accuracy=1.000]  "
     ]
    },
    {
     "name": "stderr",
     "output_type": "stream",
     "text": [
      "[2025-08-16 00:03:40] INFO (torcheeg/MainThread) \n",
      "[Train] train_loss: 0.016 train_accuracy: 0.994 \n"
     ]
    },
    {
     "name": "stdout",
     "output_type": "stream",
     "text": [
      "Epoch 16: 100%|██████████| 960/960 [00:39<00:00, 24.22it/s, v_num=0, train_loss=0.00959, train_accuracy=1.000] "
     ]
    },
    {
     "name": "stderr",
     "output_type": "stream",
     "text": [
      "[2025-08-16 00:04:21] INFO (torcheeg/MainThread) \n",
      "[Train] train_loss: 0.015 train_accuracy: 0.995 \n"
     ]
    },
    {
     "name": "stdout",
     "output_type": "stream",
     "text": [
      "Epoch 17: 100%|██████████| 960/960 [00:39<00:00, 24.10it/s, v_num=0, train_loss=0.00137, train_accuracy=1.000] "
     ]
    },
    {
     "name": "stderr",
     "output_type": "stream",
     "text": [
      "[2025-08-16 00:05:03] INFO (torcheeg/MainThread) \n",
      "[Train] train_loss: 0.013 train_accuracy: 0.995 \n"
     ]
    },
    {
     "name": "stdout",
     "output_type": "stream",
     "text": [
      "Epoch 18: 100%|██████████| 960/960 [00:39<00:00, 24.13it/s, v_num=0, train_loss=0.0109, train_accuracy=1.000]  "
     ]
    },
    {
     "name": "stderr",
     "output_type": "stream",
     "text": [
      "[2025-08-16 00:05:44] INFO (torcheeg/MainThread) \n",
      "[Train] train_loss: 0.012 train_accuracy: 0.996 \n"
     ]
    },
    {
     "name": "stdout",
     "output_type": "stream",
     "text": [
      "Epoch 19: 100%|██████████| 960/960 [00:40<00:00, 23.92it/s, v_num=0, train_loss=0.000776, train_accuracy=1.000]"
     ]
    },
    {
     "name": "stderr",
     "output_type": "stream",
     "text": [
      "[2025-08-16 00:06:25] INFO (torcheeg/MainThread) \n",
      "[Train] train_loss: 0.011 train_accuracy: 0.996 \n",
      "`Trainer.fit` stopped: `max_epochs=20` reached.\n"
     ]
    },
    {
     "name": "stdout",
     "output_type": "stream",
     "text": [
      "Epoch 19: 100%|██████████| 960/960 [00:41<00:00, 23.20it/s, v_num=0, train_loss=0.000776, train_accuracy=1.000]"
     ]
    },
    {
     "name": "stderr",
     "output_type": "stream",
     "text": [
      "/Users/andrei/miniforge3/envs/tf/lib/python3.11/site-packages/torcheeg/trainers/generative/wgan_gp.py:98: UserWarning: No latent_channels specified, use generator.in_channels (128) as latent_channels.\n",
      "  warnings.warn(\n",
      "/Users/andrei/miniforge3/envs/tf/lib/python3.11/site-packages/torchmetrics/utilities/prints.py:43: UserWarning: Metric `InceptionScore` will save all extracted features in buffer. For large datasets this may lead to large memory footprint.\n",
      "  warnings.warn(*args, **kwargs)\n",
      "💡 Tip: For seamless cloud uploads and versioning, try installing [litmodels](https://pypi.org/project/litmodels/) to enable LitModelCheckpoint, which syncs automatically with the Lightning model registry.\n",
      "GPU available: True (mps), used: True\n",
      "TPU available: False, using: 0 TPU cores\n",
      "HPU available: False, using: 0 HPUs\n",
      "\n",
      "   | Name              | Type              | Params | Mode \n",
      "-----------------------------------------------------------------\n",
      "0  | generator         | BCGenerator       | 3.3 M  | train\n",
      "1  | discriminator     | BCDiscriminator   | 525 K  | train\n",
      "2  | bce_fn            | BCEWithLogitsLoss | 0      | train\n",
      "3  | metric_extractor  | Extractor         | 6.2 M  | train\n",
      "4  | metric_classifier | CCNN              | 6.2 M  | train\n",
      "5  | train_g_loss      | MeanMetric        | 0      | train\n",
      "6  | train_d_loss      | MeanMetric        | 0      | train\n",
      "7  | val_g_loss        | MeanMetric        | 0      | train\n",
      "8  | val_d_loss        | MeanMetric        | 0      | train\n",
      "9  | test_g_loss       | MeanMetric        | 0      | train\n",
      "10 | test_d_loss       | MeanMetric        | 0      | train\n",
      "11 | test_is           | InceptionScore    | 6.2 M  | train\n",
      "-----------------------------------------------------------------\n",
      "16.2 M    Trainable params\n",
      "0         Non-trainable params\n",
      "16.2 M    Total params\n",
      "64.994    Total estimated model params size (MB)\n",
      "89        Modules in train mode\n",
      "0         Modules in eval mode\n"
     ]
    },
    {
     "name": "stdout",
     "output_type": "stream",
     "text": [
      "\n",
      "Sanity Checking: |          | 0/? [00:00<?, ?it/s]"
     ]
    },
    {
     "name": "stderr",
     "output_type": "stream",
     "text": [
      "/Users/andrei/miniforge3/envs/tf/lib/python3.11/site-packages/pytorch_lightning/trainer/connectors/data_connector.py:433: The 'val_dataloader' does not have many workers which may be a bottleneck. Consider increasing the value of the `num_workers` argument` to `num_workers=7` in the `DataLoader` to improve performance.\n"
     ]
    },
    {
     "name": "stdout",
     "output_type": "stream",
     "text": [
      "Sanity Checking DataLoader 0: 100%|██████████| 2/2 [00:00<00:00, 12.15it/s]"
     ]
    },
    {
     "name": "stderr",
     "output_type": "stream",
     "text": [
      "[2025-08-16 00:06:27] INFO (torcheeg/MainThread) \n",
      "[VAL] val_g_loss: 0.011 val_d_loss: 0.986 \n",
      "\n"
     ]
    },
    {
     "name": "stdout",
     "output_type": "stream",
     "text": [
      "Epoch 0: 100%|██████████| 960/960 [01:00<00:00, 15.80it/s, v_num=12, train_g_loss=161.0, train_d_loss=-313.]"
     ]
    },
    {
     "name": "stderr",
     "output_type": "stream",
     "text": [
      "[2025-08-16 00:07:33] INFO (torcheeg/MainThread) \n",
      "[VAL] val_g_loss: 158.950 val_d_loss: 1.689 \n",
      "\n"
     ]
    },
    {
     "name": "stdout",
     "output_type": "stream",
     "text": [
      "Epoch 0: 100%|██████████| 960/960 [01:06<00:00, 14.52it/s, v_num=12, train_g_loss=161.0, train_d_loss=-313.]"
     ]
    },
    {
     "name": "stderr",
     "output_type": "stream",
     "text": [
      "[2025-08-16 00:07:33] INFO (torcheeg/MainThread) \n",
      "[Train] train_g_loss: 78.581 train_d_loss: -154.459 \n",
      "\n",
      "`Trainer.fit` stopped: `max_epochs=1` reached.\n"
     ]
    },
    {
     "name": "stdout",
     "output_type": "stream",
     "text": [
      "Epoch 0: 100%|██████████| 960/960 [01:06<00:00, 14.43it/s, v_num=12, train_g_loss=161.0, train_d_loss=-313.]"
     ]
    },
    {
     "name": "stderr",
     "output_type": "stream",
     "text": [
      "💡 Tip: For seamless cloud uploads and versioning, try installing [litmodels](https://pypi.org/project/litmodels/) to enable LitModelCheckpoint, which syncs automatically with the Lightning model registry.\n",
      "GPU available: True (mps), used: True\n",
      "TPU available: False, using: 0 TPU cores\n",
      "HPU available: False, using: 0 HPUs\n",
      "/Users/andrei/miniforge3/envs/tf/lib/python3.11/site-packages/pytorch_lightning/trainer/connectors/data_connector.py:433: The 'test_dataloader' does not have many workers which may be a bottleneck. Consider increasing the value of the `num_workers` argument` to `num_workers=7` in the `DataLoader` to improve performance.\n"
     ]
    },
    {
     "name": "stdout",
     "output_type": "stream",
     "text": [
      "\n",
      "Testing DataLoader 0: 100%|██████████| 240/240 [00:06<00:00, 34.99it/s]"
     ]
    },
    {
     "name": "stderr",
     "output_type": "stream",
     "text": [
      "[2025-08-16 00:07:40] INFO (torcheeg/MainThread) \n",
      "[TEST] test_g_loss: 158.950 test_d_loss: 1.684 test_is: 1.000 \n",
      "\n"
     ]
    },
    {
     "name": "stdout",
     "output_type": "stream",
     "text": [
      "Testing DataLoader 0: 100%|██████████| 240/240 [00:06<00:00, 34.83it/s]\n"
     ]
    },
    {
     "data": {
      "text/html": [
       "<pre style=\"white-space:pre;overflow-x:auto;line-height:normal;font-family:Menlo,'DejaVu Sans Mono',consolas,'Courier New',monospace\">┏━━━━━━━━━━━━━━━━━━━━━━━━━━━┳━━━━━━━━━━━━━━━━━━━━━━━━━━━┓\n",
       "┃<span style=\"font-weight: bold\">        Test metric        </span>┃<span style=\"font-weight: bold\">       DataLoader 0        </span>┃\n",
       "┡━━━━━━━━━━━━━━━━━━━━━━━━━━━╇━━━━━━━━━━━━━━━━━━━━━━━━━━━┩\n",
       "│<span style=\"color: #008080; text-decoration-color: #008080\">        test_d_loss        </span>│<span style=\"color: #800080; text-decoration-color: #800080\">     1.684166431427002     </span>│\n",
       "│<span style=\"color: #008080; text-decoration-color: #008080\">        test_g_loss        </span>│<span style=\"color: #800080; text-decoration-color: #800080\">    158.95030212402344     </span>│\n",
       "│<span style=\"color: #008080; text-decoration-color: #008080\">          test_is          </span>│<span style=\"color: #800080; text-decoration-color: #800080\">     1.000223159790039     </span>│\n",
       "└───────────────────────────┴───────────────────────────┘\n",
       "</pre>\n"
      ],
      "text/plain": [
       "┏━━━━━━━━━━━━━━━━━━━━━━━━━━━┳━━━━━━━━━━━━━━━━━━━━━━━━━━━┓\n",
       "┃\u001b[1m \u001b[0m\u001b[1m       Test metric       \u001b[0m\u001b[1m \u001b[0m┃\u001b[1m \u001b[0m\u001b[1m      DataLoader 0       \u001b[0m\u001b[1m \u001b[0m┃\n",
       "┡━━━━━━━━━━━━━━━━━━━━━━━━━━━╇━━━━━━━━━━━━━━━━━━━━━━━━━━━┩\n",
       "│\u001b[36m \u001b[0m\u001b[36m       test_d_loss       \u001b[0m\u001b[36m \u001b[0m│\u001b[35m \u001b[0m\u001b[35m    1.684166431427002    \u001b[0m\u001b[35m \u001b[0m│\n",
       "│\u001b[36m \u001b[0m\u001b[36m       test_g_loss       \u001b[0m\u001b[36m \u001b[0m│\u001b[35m \u001b[0m\u001b[35m   158.95030212402344    \u001b[0m\u001b[35m \u001b[0m│\n",
       "│\u001b[36m \u001b[0m\u001b[36m         test_is         \u001b[0m\u001b[36m \u001b[0m│\u001b[35m \u001b[0m\u001b[35m    1.000223159790039    \u001b[0m\u001b[35m \u001b[0m│\n",
       "└───────────────────────────┴───────────────────────────┘\n"
      ]
     },
     "metadata": {},
     "output_type": "display_data"
    }
   ],
   "source": [
    "from torch.utils.data import DataLoader\n",
    "from torcheeg.trainers import ClassifierTrainer, CWGANGPTrainer\n",
    "from torcheeg.models import CCNN, BCGenerator, BCDiscriminator\n",
    "\n",
    "import pytorch_lightning as pl\n",
    "\n",
    "for i, (train_dataset, val_dataset) in enumerate(k_fold.split(dataset)):\n",
    "    train_loader = DataLoader(train_dataset, batch_size=64, shuffle=True)\n",
    "    val_loader = DataLoader(val_dataset, batch_size=64, shuffle=False)\n",
    "\n",
    "    classifier = CCNN(num_classes=2, in_channels=4, grid_size=(9, 9))\n",
    "\n",
    "    # if you have a pre-trained classifier, you can just load it, instead of training it from scratch\n",
    "    trainer = ClassifierTrainer(model=classifier,\n",
    "                                num_classes=2,\n",
    "                                lr=1e-4,\n",
    "                                weight_decay=1e-4,\n",
    "                                accelerator=\"gpu\")\n",
    "    trainer.fit(train_loader,\n",
    "                val_loader,\n",
    "                max_epochs=20,\n",
    "                default_root_dir=f'./temp/deap-model/{i}',\n",
    "                callbacks=[pl.callbacks.ModelCheckpoint(save_last=True)],\n",
    "                enable_progress_bar=True,\n",
    "                enable_model_summary=True,\n",
    "                limit_val_batches=0.0)\n",
    "\n",
    "    extractor = Extractor(num_classes=2, in_channels=4, grid_size=(9, 9))\n",
    "    extractor.load_state_dict(classifier.state_dict())\n",
    "\n",
    "    g_model = BCGenerator(in_channels=128)\n",
    "    d_model = BCDiscriminator(in_channels=4)\n",
    "\n",
    "    trainer = CWGANGPTrainer(g_model,\n",
    "                              d_model,\n",
    "                              metric_extractor=extractor,\n",
    "                              metric_classifier=classifier,\n",
    "                              metric_num_features=9 * 9 * 64,\n",
    "                              metrics=['is'],\n",
    "                             accelerator='gpu')\n",
    "    trainer.fit(train_loader, val_loader, max_epochs=1)\n",
    "    trainer.test(val_loader)"
   ]
  }
 ],
 "metadata": {
  "kernelspec": {
   "display_name": "tf",
   "language": "python",
   "name": "python3"
  },
  "language_info": {
   "codemirror_mode": {
    "name": "ipython",
    "version": 3
   },
   "file_extension": ".py",
   "mimetype": "text/x-python",
   "name": "python",
   "nbconvert_exporter": "python",
   "pygments_lexer": "ipython3",
   "version": "3.11.12"
  }
 },
 "nbformat": 4,
 "nbformat_minor": 5
}
